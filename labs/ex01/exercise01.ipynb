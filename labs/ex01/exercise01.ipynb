{
 "cells": [
  {
   "cell_type": "markdown",
   "id": "76f09f46-2fb3-4d22-955b-c08034416137",
   "metadata": {},
   "source": [
    "# Lab 01"
   ]
  },
  {
   "cell_type": "code",
   "execution_count": 11,
   "id": "c76d50ac-2f99-4980-8894-f7b0a04c4610",
   "metadata": {
    "execution": {
     "iopub.execute_input": "2025-09-11T13:54:30.791637Z",
     "iopub.status.busy": "2025-09-11T13:54:30.791304Z",
     "iopub.status.idle": "2025-09-11T13:54:30.795017Z",
     "shell.execute_reply": "2025-09-11T13:54:30.794523Z",
     "shell.execute_reply.started": "2025-09-11T13:54:30.791609Z"
    }
   },
   "outputs": [],
   "source": [
    "import numpy as np\n",
    "import pandas as pd\n",
    "import matplotlib.pyplot as plt\n",
    "\n",
    "%matplotlib inline"
   ]
  },
  {
   "cell_type": "markdown",
   "id": "47d5f46a-3fa2-489a-bda7-eeb09d0f929d",
   "metadata": {},
   "source": [
    "## Task A : Matrix Standardization"
   ]
  },
  {
   "cell_type": "code",
   "execution_count": 12,
   "id": "f38d1775-b284-4503-8f35-409a9f3738ca",
   "metadata": {
    "execution": {
     "iopub.execute_input": "2025-09-11T13:54:31.613328Z",
     "iopub.status.busy": "2025-09-11T13:54:31.613052Z",
     "iopub.status.idle": "2025-09-11T13:54:31.616359Z",
     "shell.execute_reply": "2025-09-11T13:54:31.615814Z",
     "shell.execute_reply.started": "2025-09-11T13:54:31.613310Z"
    }
   },
   "outputs": [],
   "source": [
    "def normalize(X):\n",
    "    mean = np.mean(X, axis = 0)\n",
    "    std = np.std(X, axis = 0)\n",
    "    X = (X - mean)/(std  + 1e-12)\n",
    "    return X"
   ]
  },
  {
   "cell_type": "code",
   "execution_count": 13,
   "id": "9ab6ac60-f196-4f5f-8668-93e8fa25d238",
   "metadata": {
    "execution": {
     "iopub.execute_input": "2025-09-11T13:54:31.757173Z",
     "iopub.status.busy": "2025-09-11T13:54:31.756802Z",
     "iopub.status.idle": "2025-09-11T13:54:31.761658Z",
     "shell.execute_reply": "2025-09-11T13:54:31.761102Z",
     "shell.execute_reply.started": "2025-09-11T13:54:31.757147Z"
    }
   },
   "outputs": [
    {
     "data": {
      "text/plain": [
       "array([[0.64167602, 0.18527425, 0.83477723, 0.34769795, 0.95656067],\n",
       "       [0.16952579, 0.80442744, 0.31748851, 0.59787589, 0.63119624],\n",
       "       [0.76415867, 0.0960998 , 0.02150966, 0.3088169 , 0.48188044],\n",
       "       [0.87126313, 0.2925801 , 0.45188293, 0.70549765, 0.8270097 ]])"
      ]
     },
     "execution_count": 13,
     "metadata": {},
     "output_type": "execute_result"
    }
   ],
   "source": [
    "X = np.random.random((4,5))\n",
    "X"
   ]
  },
  {
   "cell_type": "code",
   "execution_count": 14,
   "id": "042ba561-06b6-41e1-be90-909f5efcc631",
   "metadata": {
    "execution": {
     "iopub.execute_input": "2025-09-11T13:54:31.919329Z",
     "iopub.status.busy": "2025-09-11T13:54:31.919085Z",
     "iopub.status.idle": "2025-09-11T13:54:31.923309Z",
     "shell.execute_reply": "2025-09-11T13:54:31.922829Z",
     "shell.execute_reply.started": "2025-09-11T13:54:31.919312Z"
    }
   },
   "outputs": [
    {
     "data": {
      "text/plain": [
       "array([[ 0.11206663, -0.58051722,  1.46578052, -0.85348159,  1.27965431],\n",
       "       [-1.65049414,  1.67548642, -0.30428915,  0.64729891, -0.51189451],\n",
       "       [ 0.56930056, -0.90544146, -1.31707593, -1.08672327, -1.3340697 ],\n",
       "       [ 0.96912695, -0.18952774,  0.15558456,  1.29290596,  0.5663099 ]])"
      ]
     },
     "execution_count": 14,
     "metadata": {},
     "output_type": "execute_result"
    }
   ],
   "source": [
    "normalize(X)"
   ]
  },
  {
   "cell_type": "markdown",
   "id": "f601be9d-f175-4bf2-b41c-0eee4b705f85",
   "metadata": {},
   "source": [
    "## Task B : Pairwise Distances in the Plane"
   ]
  },
  {
   "cell_type": "code",
   "execution_count": null,
   "id": "be85d0b9-97f4-4d65-ad7b-4d54a9a1b73f",
   "metadata": {},
   "outputs": [],
   "source": []
  }
 ],
 "metadata": {
  "kernelspec": {
   "display_name": "Python3",
   "language": "python",
   "name": "python3"
  },
  "language_info": {
   "codemirror_mode": {
    "name": "ipython",
    "version": 3
   },
   "file_extension": ".py",
   "mimetype": "text/x-python",
   "name": "python",
   "nbconvert_exporter": "python",
   "pygments_lexer": "ipython3",
   "version": "3.12.11"
  }
 },
 "nbformat": 4,
 "nbformat_minor": 5
}
