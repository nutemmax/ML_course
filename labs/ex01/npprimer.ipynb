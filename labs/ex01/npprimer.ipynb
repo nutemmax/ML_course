{
 "cells": [
  {
   "cell_type": "markdown",
   "metadata": {},
   "source": [
    "Welcome to the jupyter notebook! To run any cell, press `Shift+Enter` or `Ctrl+Enter`.\n",
    "\n",
    "**IMPORTANT** : Please have a look at `Help->User Interface Tour` and `Help->Keyboard Shortcuts` in the toolbar above that will help you get started."
   ]
  },
  {
   "cell_type": "code",
   "execution_count": 2,
   "metadata": {
    "execution": {
     "iopub.execute_input": "2025-09-11T12:34:54.812001Z",
     "iopub.status.busy": "2025-09-11T12:34:54.811760Z",
     "iopub.status.idle": "2025-09-11T12:34:54.824718Z",
     "shell.execute_reply": "2025-09-11T12:34:54.824190Z",
     "shell.execute_reply.started": "2025-09-11T12:34:54.811956Z"
    }
   },
   "outputs": [
    {
     "name": "stdout",
     "output_type": "stream",
     "text": [
      "The autoreload extension is already loaded. To reload it, use:\n",
      "  %reload_ext autoreload\n"
     ]
    }
   ],
   "source": [
    "# Useful starting lines\n",
    "%matplotlib inline\n",
    "import numpy as np\n",
    "import matplotlib.pyplot as plt\n",
    "\n",
    "%load_ext autoreload\n",
    "%autoreload 2"
   ]
  },
  {
   "cell_type": "markdown",
   "metadata": {},
   "source": [
    "# Notebook Basics"
   ]
  },
  {
   "cell_type": "markdown",
   "metadata": {},
   "source": [
    "A cell contains any type of python inputs (expression, function definitions, etc...). Running a cell is equivalent to input this block in the python interpreter. The notebook will print the output of the last executed line."
   ]
  },
  {
   "cell_type": "code",
   "execution_count": 3,
   "metadata": {
    "execution": {
     "iopub.execute_input": "2025-09-11T12:35:05.342081Z",
     "iopub.status.busy": "2025-09-11T12:35:05.341807Z",
     "iopub.status.idle": "2025-09-11T12:35:05.354639Z",
     "shell.execute_reply": "2025-09-11T12:35:05.354090Z",
     "shell.execute_reply.started": "2025-09-11T12:35:05.342062Z"
    }
   },
   "outputs": [
    {
     "data": {
      "text/plain": [
       "1"
      ]
     },
     "execution_count": 3,
     "metadata": {},
     "output_type": "execute_result"
    }
   ],
   "source": [
    "1"
   ]
  },
  {
   "cell_type": "code",
   "execution_count": 4,
   "metadata": {
    "execution": {
     "iopub.execute_input": "2025-09-11T12:35:11.555755Z",
     "iopub.status.busy": "2025-09-11T12:35:11.555491Z",
     "iopub.status.idle": "2025-09-11T12:35:11.567207Z",
     "shell.execute_reply": "2025-09-11T12:35:11.566667Z",
     "shell.execute_reply.started": "2025-09-11T12:35:11.555735Z"
    }
   },
   "outputs": [],
   "source": [
    "x = [2, 3, 4]\n",
    "\n",
    "\n",
    "def my_function(l):\n",
    "    l.append(12)"
   ]
  },
  {
   "cell_type": "code",
   "execution_count": 15,
   "metadata": {
    "execution": {
     "iopub.execute_input": "2025-09-11T12:50:38.553902Z",
     "iopub.status.busy": "2025-09-11T12:50:38.553636Z",
     "iopub.status.idle": "2025-09-11T12:50:38.566500Z",
     "shell.execute_reply": "2025-09-11T12:50:38.565891Z",
     "shell.execute_reply.started": "2025-09-11T12:50:38.553884Z"
    }
   },
   "outputs": [
    {
     "data": {
      "text/plain": [
       "[2, 3, 4, 12, 12]"
      ]
     },
     "execution_count": 15,
     "metadata": {},
     "output_type": "execute_result"
    }
   ],
   "source": [
    "my_function(x)\n",
    "\n",
    "x"
   ]
  },
  {
   "cell_type": "code",
   "execution_count": 17,
   "metadata": {
    "execution": {
     "iopub.execute_input": "2025-09-11T12:50:44.538130Z",
     "iopub.status.busy": "2025-09-11T12:50:44.537869Z",
     "iopub.status.idle": "2025-09-11T12:50:44.652735Z",
     "shell.execute_reply": "2025-09-11T12:50:44.652247Z",
     "shell.execute_reply.started": "2025-09-11T12:50:44.538112Z"
    }
   },
   "outputs": [
    {
     "data": {
      "text/plain": [
       "Text(0, 0.5, 'Y label')"
      ]
     },
     "execution_count": 17,
     "metadata": {},
     "output_type": "execute_result"
    },
    {
     "data": {
      "image/png": "[encoded data removed]",
      "text/plain": [
       "<Figure size 640x480 with 1 Axes>"
      ]
     },
     "metadata": {},
     "output_type": "display_data"
    }
   ],
   "source": [
    "# Matplotlib is used for plotting, plots are directly embedded in the\n",
    "# notebook thanks to the '%matplolib inline' command at the beginning\n",
    "plt.hist(np.random.randn(10000), bins=40)\n",
    "plt.xlabel(\"X label\")\n",
    "plt.ylabel(\"Y label\")"
   ]
  },
  {
   "cell_type": "markdown",
   "metadata": {},
   "source": [
    "Numpy Basics\n",
    "============"
   ]
  },
  {
   "cell_type": "markdown",
   "metadata": {},
   "source": [
    "**IMPORTANT** : the numpy documentation is quite good. The Notebook system is really good to help you. Use the Auto-Completion with `Tab`, and use `Shift+Tab` to get the complete documentation about the current function (when the cursor is between the parenthesis of the function for instance).\n",
    "\n",
    "For example, you want to multiply two arrays. `np.mul` + `Tab` complete to the only valid function `np.multiply`. Then using `Shift+Tab` you learn `np.multiply` is actually the element-wise multiplication and is equivalent to the `*` operator."
   ]
  },
  {
   "cell_type": "code",
   "execution_count": 18,
   "metadata": {
    "execution": {
     "iopub.execute_input": "2025-09-11T12:51:24.863004Z",
     "iopub.status.busy": "2025-09-11T12:51:24.862682Z",
     "iopub.status.idle": "2025-09-11T12:51:24.877337Z",
     "shell.execute_reply": "2025-09-11T12:51:24.876761Z",
     "shell.execute_reply.started": "2025-09-11T12:51:24.862961Z"
    }
   },
   "outputs": [
    {
     "data": {
      "text/plain": [
       "<ufunc 'multiply'>"
      ]
     },
     "execution_count": 18,
     "metadata": {},
     "output_type": "execute_result"
    }
   ],
   "source": [
    "np.multiply"
   ]
  },
  {
   "cell_type": "markdown",
   "metadata": {},
   "source": [
    "### Creation of arrays\n",
    "\n",
    "Creating ndarrays (`np.zeros`, `np.ones`) is done by giving the shape as an iterable (List or Tuple). An integer is also accepted for one-dimensional array.\n",
    "\n",
    "`np.eye` creates an identity matrix.\n",
    "\n",
    "You can also create an array by giving iterables to it.\n",
    "\n",
    "(NB : The random functions `np.random.rand` and `np.random.randn` are exceptions though)"
   ]
  },
  {
   "cell_type": "code",
   "execution_count": 7,
   "metadata": {
    "execution": {
     "iopub.execute_input": "2022-10-20T20:19:26.718930Z",
     "iopub.status.busy": "2022-10-20T20:19:26.718749Z",
     "iopub.status.idle": "2022-10-20T20:19:26.737566Z",
     "shell.execute_reply": "2022-10-20T20:19:26.737104Z"
    }
   },
   "outputs": [
    {
     "data": {
      "text/plain": [
       "array([0., 0., 0., 0.])"
      ]
     },
     "execution_count": 7,
     "metadata": {},
     "output_type": "execute_result"
    }
   ],
   "source": [
    "np.zeros(4)"
   ]
  },
  {
   "cell_type": "code",
   "execution_count": 8,
   "metadata": {
    "execution": {
     "iopub.execute_input": "2022-10-20T20:19:26.740162Z",
     "iopub.status.busy": "2022-10-20T20:19:26.739994Z",
     "iopub.status.idle": "2022-10-20T20:19:26.758915Z",
     "shell.execute_reply": "2022-10-20T20:19:26.758382Z"
    }
   },
   "outputs": [
    {
     "data": {
      "text/plain": [
       "array([[1., 0., 0.],\n",
       "       [0., 1., 0.],\n",
       "       [0., 0., 1.]])"
      ]
     },
     "execution_count": 8,
     "metadata": {},
     "output_type": "execute_result"
    }
   ],
   "source": [
    "np.eye(3)"
   ]
  },
  {
   "cell_type": "code",
   "execution_count": 9,
   "metadata": {
    "execution": {
     "iopub.execute_input": "2022-10-20T20:19:26.761580Z",
     "iopub.status.busy": "2022-10-20T20:19:26.761393Z",
     "iopub.status.idle": "2022-10-20T20:19:26.780172Z",
     "shell.execute_reply": "2022-10-20T20:19:26.779771Z"
    }
   },
   "outputs": [
    {
     "data": {
      "text/plain": [
       "array([[1, 3, 4],\n",
       "       [2, 5, 6]])"
      ]
     },
     "execution_count": 9,
     "metadata": {},
     "output_type": "execute_result"
    }
   ],
   "source": [
    "np.array([[1, 3, 4], [2, 5, 6]])"
   ]
  },
  {
   "cell_type": "code",
   "execution_count": 10,
   "metadata": {
    "execution": {
     "iopub.execute_input": "2022-10-20T20:19:26.782843Z",
     "iopub.status.busy": "2022-10-20T20:19:26.782679Z",
     "iopub.status.idle": "2022-10-20T20:19:26.801103Z",
     "shell.execute_reply": "2022-10-20T20:19:26.800555Z"
    }
   },
   "outputs": [
    {
     "data": {
      "text/plain": [
       "array([0, 1, 2, 3, 4, 5, 6, 7, 8, 9])"
      ]
     },
     "execution_count": 10,
     "metadata": {},
     "output_type": "execute_result"
    }
   ],
   "source": [
    "np.arange(10)  # NB : np.array(range(10)) is a slightly more complicated equivalent"
   ]
  },
  {
   "cell_type": "code",
   "execution_count": 11,
   "metadata": {
    "execution": {
     "iopub.execute_input": "2022-10-20T20:19:26.803620Z",
     "iopub.status.busy": "2022-10-20T20:19:26.803404Z",
     "iopub.status.idle": "2022-10-20T20:19:26.822059Z",
     "shell.execute_reply": "2022-10-20T20:19:26.821612Z"
    }
   },
   "outputs": [
    {
     "data": {
      "text/plain": [
       "array([[-0.16249426,  0.12874363, -0.23708515,  0.2662186 ],\n",
       "       [ 0.29780723,  2.32306018,  0.02953589,  0.07776264],\n",
       "       [ 1.20722021,  1.07160756, -1.74754213, -0.85710497]])"
      ]
     },
     "execution_count": 11,
     "metadata": {},
     "output_type": "execute_result"
    }
   ],
   "source": [
    "np.random.randn(3, 4)  # normal distributed values"
   ]
  },
  {
   "cell_type": "code",
   "execution_count": 12,
   "metadata": {
    "execution": {
     "iopub.execute_input": "2022-10-20T20:19:26.824647Z",
     "iopub.status.busy": "2022-10-20T20:19:26.824454Z",
     "iopub.status.idle": "2022-10-20T20:19:26.843033Z",
     "shell.execute_reply": "2022-10-20T20:19:26.842587Z"
    }
   },
   "outputs": [
    {
     "data": {
      "text/plain": [
       "array([[[1., 1.],\n",
       "        [1., 1.],\n",
       "        [1., 1.],\n",
       "        [1., 1.]],\n",
       "\n",
       "       [[1., 1.],\n",
       "        [1., 1.],\n",
       "        [1., 1.],\n",
       "        [1., 1.]]])"
      ]
     },
     "execution_count": 12,
     "metadata": {},
     "output_type": "execute_result"
    }
   ],
   "source": [
    "# 3-D tensor\n",
    "tensor_3 = np.ones((2, 4, 2))\n",
    "tensor_3"
   ]
  },
  {
   "cell_type": "markdown",
   "metadata": {},
   "source": [
    "### ndarray basics\n",
    "\n",
    "A ndarray python object is just a reference to the data location and its characteristics.\n",
    "\n",
    "All numpy operations applying on an array can be called np._function_(a) or a._function_() (i.e `np.sum(a)` or `a.sum()`)\n",
    "\n",
    "It has an attribute `shape` that returns a tuple of the different dimensions of the ndarray. It also has an attribute `dtype` that describes the type of data of the object (default type is `float64`)\n",
    "\n",
    "**WARNING** because of the object structure, unless you call `copy()` copying the reference is not copying the data."
   ]
  },
  {
   "cell_type": "code",
   "execution_count": 13,
   "metadata": {
    "execution": {
     "iopub.execute_input": "2022-10-20T20:19:26.845962Z",
     "iopub.status.busy": "2022-10-20T20:19:26.845643Z",
     "iopub.status.idle": "2022-10-20T20:19:26.864323Z",
     "shell.execute_reply": "2022-10-20T20:19:26.863893Z"
    }
   },
   "outputs": [
    {
     "data": {
      "text/plain": [
       "((2, 4, 2), dtype('float64'))"
      ]
     },
     "execution_count": 13,
     "metadata": {},
     "output_type": "execute_result"
    }
   ],
   "source": [
    "tensor_3.shape, tensor_3.dtype"
   ]
  },
  {
   "cell_type": "code",
   "execution_count": 14,
   "metadata": {
    "execution": {
     "iopub.execute_input": "2022-10-20T20:19:26.866859Z",
     "iopub.status.busy": "2022-10-20T20:19:26.866671Z",
     "iopub.status.idle": "2022-10-20T20:19:26.884944Z",
     "shell.execute_reply": "2022-10-20T20:19:26.884471Z"
    }
   },
   "outputs": [
    {
     "data": {
      "text/plain": [
       "(dtype('int64'), dtype('float64'))"
      ]
     },
     "execution_count": 14,
     "metadata": {},
     "output_type": "execute_result"
    }
   ],
   "source": [
    "a = np.array([[1.0, 2.0], [5.0, 4.0]])\n",
    "b = np.array([[4, 3], [2, 1]])\n",
    "(b.dtype, a.dtype)  # each array has a data type (casting rules apply for int -> float)"
   ]
  },
  {
   "cell_type": "code",
   "execution_count": 15,
   "metadata": {
    "execution": {
     "iopub.execute_input": "2022-10-20T20:19:26.887590Z",
     "iopub.status.busy": "2022-10-20T20:19:26.887409Z",
     "iopub.status.idle": "2022-10-20T20:19:26.905982Z",
     "shell.execute_reply": "2022-10-20T20:19:26.905259Z"
    }
   },
   "outputs": [
    {
     "data": {
      "text/plain": [
       "array(['Mickey', 'Mouse'], dtype='<U6')"
      ]
     },
     "execution_count": 15,
     "metadata": {},
     "output_type": "execute_result"
    }
   ],
   "source": [
    "np.array([\"Mickey\", \"Mouse\"])  # can hold more than just numbers"
   ]
  },
  {
   "cell_type": "code",
   "execution_count": 16,
   "metadata": {
    "execution": {
     "iopub.execute_input": "2022-10-20T20:19:26.908278Z",
     "iopub.status.busy": "2022-10-20T20:19:26.908114Z",
     "iopub.status.idle": "2022-10-20T20:19:26.926979Z",
     "shell.execute_reply": "2022-10-20T20:19:26.926492Z"
    }
   },
   "outputs": [
    {
     "data": {
      "text/plain": [
       "array([[3., 2.],\n",
       "       [5., 4.]])"
      ]
     },
     "execution_count": 16,
     "metadata": {},
     "output_type": "execute_result"
    }
   ],
   "source": [
    "a = np.array([[1.0, 2.0], [5.0, 4.0]])\n",
    "b = a  # Copying the reference only\n",
    "b[0, 0] = 3\n",
    "a"
   ]
  },
  {
   "cell_type": "code",
   "execution_count": 17,
   "metadata": {
    "execution": {
     "iopub.execute_input": "2022-10-20T20:19:26.929454Z",
     "iopub.status.busy": "2022-10-20T20:19:26.929288Z",
     "iopub.status.idle": "2022-10-20T20:19:26.948186Z",
     "shell.execute_reply": "2022-10-20T20:19:26.947655Z"
    }
   },
   "outputs": [
    {
     "data": {
      "text/plain": [
       "array([[1., 2.],\n",
       "       [5., 4.]])"
      ]
     },
     "execution_count": 17,
     "metadata": {},
     "output_type": "execute_result"
    }
   ],
   "source": [
    "a = np.array([[1.0, 2.0], [5.0, 4.0]])\n",
    "b = a.copy()  # Deep-copy of the data\n",
    "b[0, 0] = 3\n",
    "a"
   ]
  },
  {
   "cell_type": "markdown",
   "metadata": {},
   "source": [
    "#### Basic operators are working element-wise (+, -, *, /)\n",
    "\n",
    "When trying to apply operators for arrays with different sizes, they are very specific rules that you might want to understand in the future : http://docs.scipy.org/doc/numpy/user/basics.broadcasting.html"
   ]
  },
  {
   "cell_type": "code",
   "execution_count": 18,
   "metadata": {
    "execution": {
     "iopub.execute_input": "2022-10-20T20:19:26.951111Z",
     "iopub.status.busy": "2022-10-20T20:19:26.950947Z",
     "iopub.status.idle": "2022-10-20T20:19:26.969578Z",
     "shell.execute_reply": "2022-10-20T20:19:26.969056Z"
    }
   },
   "outputs": [
    {
     "data": {
      "text/plain": [
       "array([[-0.69583602,  0.24520908,  0.44772723,  0.35083724],\n",
       "       [ 1.76404098, -2.49221099,  0.94502621,  2.23224345]])"
      ]
     },
     "execution_count": 18,
     "metadata": {},
     "output_type": "execute_result"
    }
   ],
   "source": [
    "np.ones((2, 4)) * np.random.randn(2, 4)"
   ]
  },
  {
   "cell_type": "code",
   "execution_count": 19,
   "metadata": {
    "execution": {
     "iopub.execute_input": "2022-10-20T20:19:26.972197Z",
     "iopub.status.busy": "2022-10-20T20:19:26.972031Z",
     "iopub.status.idle": "2022-10-20T20:19:26.990953Z",
     "shell.execute_reply": "2022-10-20T20:19:26.990389Z"
    }
   },
   "outputs": [
    {
     "data": {
      "text/plain": [
       "array([[ 0., -1., -1.],\n",
       "       [-1.,  0., -1.],\n",
       "       [-1., -1.,  0.]])"
      ]
     },
     "execution_count": 19,
     "metadata": {},
     "output_type": "execute_result"
    }
   ],
   "source": [
    "np.eye(3) - np.ones((3, 3))"
   ]
  },
  {
   "cell_type": "code",
   "execution_count": 20,
   "metadata": {
    "execution": {
     "iopub.execute_input": "2022-10-20T20:19:26.993497Z",
     "iopub.status.busy": "2022-10-20T20:19:26.993295Z",
     "iopub.status.idle": "2022-10-20T20:19:27.011809Z",
     "shell.execute_reply": "2022-10-20T20:19:27.011275Z"
    }
   },
   "outputs": [
    {
     "name": "stdout",
     "output_type": "stream",
     "text": [
      "[[1. 2.]\n",
      " [5. 4.]]\n",
      "(2, 2)\n",
      "2\n"
     ]
    }
   ],
   "source": [
    "print(a)\n",
    "print(a.shape)  # Get shape\n",
    "print(a.shape[0])  # Get size of first dimension"
   ]
  },
  {
   "cell_type": "markdown",
   "metadata": {},
   "source": [
    "#### Accessing elements and slicing\n",
    "\n",
    "For people uncomfortable with the slicing of arrays, please have a look at the 'Indexing and Slicing' section of http://www.python-course.eu/numpy.php"
   ]
  },
  {
   "cell_type": "code",
   "execution_count": 21,
   "metadata": {
    "execution": {
     "iopub.execute_input": "2022-10-20T20:19:27.014562Z",
     "iopub.status.busy": "2022-10-20T20:19:27.014375Z",
     "iopub.status.idle": "2022-10-20T20:19:27.033148Z",
     "shell.execute_reply": "2022-10-20T20:19:27.032393Z"
    }
   },
   "outputs": [
    {
     "name": "stdout",
     "output_type": "stream",
     "text": [
      "[1. 2.]\n",
      "[2. 4.]\n",
      "2.0\n"
     ]
    }
   ],
   "source": [
    "print(a[0])  # Get first line (slice for the first dimension)\n",
    "print(a[:, 1])  # Get second column (slice for the second dimension)\n",
    "print(a[0, 1])  # Get first line second column element"
   ]
  },
  {
   "cell_type": "markdown",
   "metadata": {},
   "source": [
    "#### Changing the shape of arrays\n",
    "\n",
    "`ravel` creates a flattened view of an array (1-D representation) whereas `flatten` creates flattened copy of the array.\n",
    "\n",
    "`reshape` allows in-place modification of the shape of the data. `transpose` shuffles the dimensions.\n",
    "\n",
    "`np.newaxis` allows the creation of empty dimensions."
   ]
  },
  {
   "cell_type": "code",
   "execution_count": 22,
   "metadata": {
    "execution": {
     "iopub.execute_input": "2022-10-20T20:19:27.036190Z",
     "iopub.status.busy": "2022-10-20T20:19:27.035980Z",
     "iopub.status.idle": "2022-10-20T20:19:27.054615Z",
     "shell.execute_reply": "2022-10-20T20:19:27.053846Z"
    }
   },
   "outputs": [],
   "source": [
    "a = np.array([[1.0, 2.0], [5.0, 4.0]])\n",
    "b = np.array([[4, 3], [2, 1]])\n",
    "v = np.array([0.5, 2.0])"
   ]
  },
  {
   "cell_type": "code",
   "execution_count": 23,
   "metadata": {
    "execution": {
     "iopub.execute_input": "2022-10-20T20:19:27.057610Z",
     "iopub.status.busy": "2022-10-20T20:19:27.057372Z",
     "iopub.status.idle": "2022-10-20T20:19:27.075866Z",
     "shell.execute_reply": "2022-10-20T20:19:27.075287Z"
    }
   },
   "outputs": [
    {
     "name": "stdout",
     "output_type": "stream",
     "text": [
      "[[1. 2.]\n",
      " [5. 4.]]\n",
      "[[1. 5.]\n",
      " [2. 4.]]\n",
      "[1. 2. 5. 4.]\n"
     ]
    }
   ],
   "source": [
    "print(a)\n",
    "print(a.T)  # Equivalent : a.tranpose(), np.transpose(a)\n",
    "print(a.ravel())"
   ]
  },
  {
   "cell_type": "code",
   "execution_count": 24,
   "metadata": {
    "execution": {
     "iopub.execute_input": "2022-10-20T20:19:27.078384Z",
     "iopub.status.busy": "2022-10-20T20:19:27.078196Z",
     "iopub.status.idle": "2022-10-20T20:19:27.097226Z",
     "shell.execute_reply": "2022-10-20T20:19:27.096636Z"
    }
   },
   "outputs": [
    {
     "name": "stdout",
     "output_type": "stream",
     "text": [
      "(4, 5)\n",
      "(1, 4, 5)\n",
      "(5, 4)\n",
      "(10, 2)\n",
      "[[ 1.21081953 -0.69174291 -0.25755627  0.90728223  0.0308461 ]\n",
      " [-0.33345465 -1.5188289  -1.0725233   1.10118675 -0.90079774]\n",
      " [ 0.65788445 -0.60147055  0.73517411 -0.08627955  0.8193513 ]\n",
      " [-0.74605167 -0.07800422  1.37779686  1.28162676 -1.78873611]]\n",
      "[[ 1.21081953 -0.69174291]\n",
      " [-0.25755627  0.90728223]\n",
      " [ 0.0308461  -0.33345465]\n",
      " [-1.5188289  -1.0725233 ]\n",
      " [ 1.10118675 -0.90079774]\n",
      " [ 0.65788445 -0.60147055]\n",
      " [ 0.73517411 -0.08627955]\n",
      " [ 0.8193513  -0.74605167]\n",
      " [-0.07800422  1.37779686]\n",
      " [ 1.28162676 -1.78873611]]\n"
     ]
    }
   ],
   "source": [
    "c = np.random.randn(4, 5)\n",
    "print(c.shape)\n",
    "print(c[np.newaxis].shape)  # Adding a dimension\n",
    "print(c.T.shape)\n",
    "print(c.reshape([10, 2]).shape)\n",
    "print(c)\n",
    "print(c.reshape([10, 2]))"
   ]
  },
  {
   "cell_type": "code",
   "execution_count": 25,
   "metadata": {
    "execution": {
     "iopub.execute_input": "2022-10-20T20:19:27.099915Z",
     "iopub.status.busy": "2022-10-20T20:19:27.099725Z",
     "iopub.status.idle": "2022-10-20T20:19:27.117743Z",
     "shell.execute_reply": "2022-10-20T20:19:27.117270Z"
    }
   },
   "outputs": [
    {
     "data": {
      "text/plain": [
       "array([[1.],\n",
       "       [2.],\n",
       "       [5.],\n",
       "       [4.]])"
      ]
     },
     "execution_count": 25,
     "metadata": {},
     "output_type": "execute_result"
    }
   ],
   "source": [
    "a.reshape((-1, 1))  # a[-1] means 'whatever needs to go there'"
   ]
  },
  {
   "cell_type": "markdown",
   "metadata": {},
   "source": [
    "#### Reduction operations\n",
    "\n",
    "Reduction operations (`np.sum`, `np.max`, `np.min`, `np.std`) work on the flattened ndarray by default. You can specify the reduction axis as an argument"
   ]
  },
  {
   "cell_type": "code",
   "execution_count": 26,
   "metadata": {
    "execution": {
     "iopub.execute_input": "2022-10-20T20:19:27.120479Z",
     "iopub.status.busy": "2022-10-20T20:19:27.120290Z",
     "iopub.status.idle": "2022-10-20T20:19:27.149492Z",
     "shell.execute_reply": "2022-10-20T20:19:27.148769Z"
    }
   },
   "outputs": [
    {
     "data": {
      "text/plain": [
       "(np.float64(12.0), array([6., 6.]), array([3., 9.]))"
      ]
     },
     "execution_count": 26,
     "metadata": {},
     "output_type": "execute_result"
    }
   ],
   "source": [
    "np.sum(a), np.sum(a, axis=0), np.sum(\n",
    "    a, axis=1\n",
    ")  # reduce-operations reduce the whole array if no axis is specified"
   ]
  },
  {
   "cell_type": "markdown",
   "metadata": {},
   "source": [
    "#### Linear-algebra operations"
   ]
  },
  {
   "cell_type": "code",
   "execution_count": 27,
   "metadata": {
    "execution": {
     "iopub.execute_input": "2022-10-20T20:19:27.152642Z",
     "iopub.status.busy": "2022-10-20T20:19:27.152445Z",
     "iopub.status.idle": "2022-10-20T20:19:27.170910Z",
     "shell.execute_reply": "2022-10-20T20:19:27.170440Z"
    }
   },
   "outputs": [
    {
     "data": {
      "text/plain": [
       "array([[ 8.,  5.],\n",
       "       [28., 19.]])"
      ]
     },
     "execution_count": 27,
     "metadata": {},
     "output_type": "execute_result"
    }
   ],
   "source": [
    "np.dot(a, b)  # matrix multiplication"
   ]
  },
  {
   "cell_type": "code",
   "execution_count": 28,
   "metadata": {
    "execution": {
     "iopub.execute_input": "2022-10-20T20:19:27.173394Z",
     "iopub.status.busy": "2022-10-20T20:19:27.173238Z",
     "iopub.status.idle": "2022-10-20T20:19:27.191715Z",
     "shell.execute_reply": "2022-10-20T20:19:27.191280Z"
    }
   },
   "outputs": [
    {
     "data": {
      "text/plain": [
       "True"
      ]
     },
     "execution_count": 28,
     "metadata": {},
     "output_type": "execute_result"
    }
   ],
   "source": [
    "# Other ways of writing matrix multiplication, the '@' operator for matrix multiplication\n",
    "# was introduced in Python 3.5\n",
    "np.allclose(a.dot(b), a @ b)"
   ]
  },
  {
   "cell_type": "code",
   "execution_count": 29,
   "metadata": {
    "execution": {
     "iopub.execute_input": "2022-10-20T20:19:27.194451Z",
     "iopub.status.busy": "2022-10-20T20:19:27.194300Z",
     "iopub.status.idle": "2022-10-20T20:19:27.213354Z",
     "shell.execute_reply": "2022-10-20T20:19:27.212772Z"
    }
   },
   "outputs": [
    {
     "data": {
      "text/plain": [
       "EigResult(eigenvalues=array([-1.,  6.]), eigenvectors=array([[-0.70710678, -0.37139068],\n",
       "       [ 0.70710678, -0.92847669]]))"
      ]
     },
     "execution_count": 29,
     "metadata": {},
     "output_type": "execute_result"
    }
   ],
   "source": [
    "# For other linear algebra operations, use the np.linalg module\n",
    "np.linalg.eig(a)  # Eigen-decomposition"
   ]
  },
  {
   "cell_type": "code",
   "execution_count": 30,
   "metadata": {
    "execution": {
     "iopub.execute_input": "2022-10-20T20:19:27.215770Z",
     "iopub.status.busy": "2022-10-20T20:19:27.215608Z",
     "iopub.status.idle": "2022-10-20T20:19:27.235011Z",
     "shell.execute_reply": "2022-10-20T20:19:27.234353Z"
    }
   },
   "outputs": [
    {
     "name": "stdout",
     "output_type": "stream",
     "text": [
      "[[-0.66666667  0.33333333]\n",
      " [ 0.83333333 -0.16666667]]\n"
     ]
    },
    {
     "data": {
      "text/plain": [
       "True"
      ]
     },
     "execution_count": 30,
     "metadata": {},
     "output_type": "execute_result"
    }
   ],
   "source": [
    "print(np.linalg.inv(a))  # Inverse\n",
    "np.allclose(np.linalg.inv(a) @ a, np.identity(a.shape[1]))  # a^-1 * a = Id"
   ]
  },
  {
   "cell_type": "code",
   "execution_count": 31,
   "metadata": {
    "execution": {
     "iopub.execute_input": "2022-10-20T20:19:27.237744Z",
     "iopub.status.busy": "2022-10-20T20:19:27.237575Z",
     "iopub.status.idle": "2022-10-20T20:19:27.256373Z",
     "shell.execute_reply": "2022-10-20T20:19:27.255714Z"
    }
   },
   "outputs": [
    {
     "data": {
      "text/plain": [
       "array([0.33333333, 0.08333333])"
      ]
     },
     "execution_count": 31,
     "metadata": {},
     "output_type": "execute_result"
    }
   ],
   "source": [
    "np.linalg.solve(a, v)  # solves ax = v"
   ]
  },
  {
   "cell_type": "markdown",
   "metadata": {},
   "source": [
    "#### Grouping operations\n",
    "\n",
    "Grouping operations (`np.stack`, `np.hstack`, `np.vstack`, `np.concatenate`) take an iterable of ndarrays and not ndarrays as separate arguments : np.concatenate([a,b]) and not np.concatenate(a,b)."
   ]
  },
  {
   "cell_type": "code",
   "execution_count": 32,
   "metadata": {
    "execution": {
     "iopub.execute_input": "2022-10-20T20:19:27.259085Z",
     "iopub.status.busy": "2022-10-20T20:19:27.258884Z",
     "iopub.status.idle": "2022-10-20T20:19:27.278194Z",
     "shell.execute_reply": "2022-10-20T20:19:27.277651Z"
    }
   },
   "outputs": [
    {
     "data": {
      "text/plain": [
       "array([[1., 2., 4., 3.],\n",
       "       [5., 4., 2., 1.]])"
      ]
     },
     "execution_count": 32,
     "metadata": {},
     "output_type": "execute_result"
    }
   ],
   "source": [
    "np.hstack([a, b])"
   ]
  },
  {
   "cell_type": "code",
   "execution_count": 33,
   "metadata": {
    "execution": {
     "iopub.execute_input": "2022-10-20T20:19:27.281046Z",
     "iopub.status.busy": "2022-10-20T20:19:27.280873Z",
     "iopub.status.idle": "2022-10-20T20:19:27.300500Z",
     "shell.execute_reply": "2022-10-20T20:19:27.300008Z"
    }
   },
   "outputs": [
    {
     "data": {
      "text/plain": [
       "array([[1., 2.],\n",
       "       [5., 4.],\n",
       "       [4., 3.],\n",
       "       [2., 1.]])"
      ]
     },
     "execution_count": 33,
     "metadata": {},
     "output_type": "execute_result"
    }
   ],
   "source": [
    "np.vstack([a, b])"
   ]
  },
  {
   "cell_type": "code",
   "execution_count": 34,
   "metadata": {
    "execution": {
     "iopub.execute_input": "2022-10-20T20:19:27.303098Z",
     "iopub.status.busy": "2022-10-20T20:19:27.302935Z",
     "iopub.status.idle": "2022-10-20T20:19:27.321636Z",
     "shell.execute_reply": "2022-10-20T20:19:27.321178Z"
    }
   },
   "outputs": [
    {
     "data": {
      "text/plain": [
       "array([[1.5, 4. ],\n",
       "       [5.5, 6. ],\n",
       "       [4.5, 5. ],\n",
       "       [2.5, 3. ]])"
      ]
     },
     "execution_count": 34,
     "metadata": {},
     "output_type": "execute_result"
    }
   ],
   "source": [
    "np.vstack([a, b]) + v  # broadcasting"
   ]
  },
  {
   "cell_type": "code",
   "execution_count": 35,
   "metadata": {
    "execution": {
     "iopub.execute_input": "2022-10-20T20:19:27.324098Z",
     "iopub.status.busy": "2022-10-20T20:19:27.323908Z",
     "iopub.status.idle": "2022-10-20T20:19:27.744380Z",
     "shell.execute_reply": "2022-10-20T20:19:27.743810Z"
    }
   },
   "outputs": [
    {
     "ename": "ValueError",
     "evalue": "operands could not be broadcast together with shapes (2,4) (2,) ",
     "output_type": "error",
     "traceback": [
      "\u001b[0;31m---------------------------------------------------------------------------\u001b[0m",
      "\u001b[0;31mValueError\u001b[0m                                Traceback (most recent call last)",
      "Cell \u001b[0;32mIn[35], line 1\u001b[0m\n\u001b[0;32m----> 1\u001b[0m \u001b[43mnp\u001b[49m\u001b[38;5;241;43m.\u001b[39;49m\u001b[43mhstack\u001b[49m\u001b[43m(\u001b[49m\u001b[43m[\u001b[49m\u001b[43ma\u001b[49m\u001b[43m,\u001b[49m\u001b[43m \u001b[49m\u001b[43mb\u001b[49m\u001b[43m]\u001b[49m\u001b[43m)\u001b[49m\u001b[43m \u001b[49m\u001b[38;5;241;43m+\u001b[39;49m\u001b[43m \u001b[49m\u001b[43mv\u001b[49m  \u001b[38;5;66;03m# does not work\u001b[39;00m\n",
      "\u001b[0;31mValueError\u001b[0m: operands could not be broadcast together with shapes (2,4) (2,) "
     ]
    }
   ],
   "source": [
    "np.hstack([a, b]) + v  # does not work"
   ]
  },
  {
   "cell_type": "code",
   "execution_count": 36,
   "metadata": {
    "execution": {
     "iopub.execute_input": "2022-10-20T20:19:27.747172Z",
     "iopub.status.busy": "2022-10-20T20:19:27.746982Z",
     "iopub.status.idle": "2022-10-20T20:19:27.773663Z",
     "shell.execute_reply": "2022-10-20T20:19:27.773122Z"
    }
   },
   "outputs": [
    {
     "ename": "ValueError",
     "evalue": "operands could not be broadcast together with shapes (2,4) (2,) ",
     "output_type": "error",
     "traceback": [
      "\u001b[0;31m---------------------------------------------------------------------------\u001b[0m",
      "\u001b[0;31mValueError\u001b[0m                                Traceback (most recent call last)",
      "Cell \u001b[0;32mIn[36], line 1\u001b[0m\n\u001b[0;32m----> 1\u001b[0m \u001b[43mnp\u001b[49m\u001b[38;5;241;43m.\u001b[39;49m\u001b[43mhstack\u001b[49m\u001b[43m(\u001b[49m\u001b[43m[\u001b[49m\u001b[43ma\u001b[49m\u001b[43m,\u001b[49m\u001b[43m \u001b[49m\u001b[43mb\u001b[49m\u001b[43m]\u001b[49m\u001b[43m)\u001b[49m\u001b[43m \u001b[49m\u001b[38;5;241;43m+\u001b[39;49m\u001b[43m \u001b[49m\u001b[43mv\u001b[49m\u001b[38;5;241;43m.\u001b[39;49m\u001b[43mT\u001b[49m  \u001b[38;5;66;03m# transposing a 1-D array achieves nothing\u001b[39;00m\n",
      "\u001b[0;31mValueError\u001b[0m: operands could not be broadcast together with shapes (2,4) (2,) "
     ]
    }
   ],
   "source": [
    "np.hstack([a, b]) + v.T  # transposing a 1-D array achieves nothing"
   ]
  },
  {
   "cell_type": "code",
   "execution_count": 37,
   "metadata": {
    "execution": {
     "iopub.execute_input": "2022-10-20T20:19:27.776501Z",
     "iopub.status.busy": "2022-10-20T20:19:27.776175Z",
     "iopub.status.idle": "2022-10-20T20:19:27.795209Z",
     "shell.execute_reply": "2022-10-20T20:19:27.794802Z"
    }
   },
   "outputs": [
    {
     "data": {
      "text/plain": [
       "array([[1.5, 2.5, 4.5, 3.5],\n",
       "       [7. , 6. , 4. , 3. ]])"
      ]
     },
     "execution_count": 37,
     "metadata": {},
     "output_type": "execute_result"
    }
   ],
   "source": [
    "np.hstack([a, b]) + v.reshape(\n",
    "    (-1, 1)\n",
    ")  # reshaping to convert v from a (2,) vector to a (2,1) matrix"
   ]
  },
  {
   "cell_type": "code",
   "execution_count": 38,
   "metadata": {
    "execution": {
     "iopub.execute_input": "2022-10-20T20:19:27.797801Z",
     "iopub.status.busy": "2022-10-20T20:19:27.797618Z",
     "iopub.status.idle": "2022-10-20T20:19:27.816517Z",
     "shell.execute_reply": "2022-10-20T20:19:27.816037Z"
    }
   },
   "outputs": [
    {
     "data": {
      "text/plain": [
       "array([[1.5, 2.5, 4.5, 3.5],\n",
       "       [7. , 6. , 4. , 3. ]])"
      ]
     },
     "execution_count": 38,
     "metadata": {},
     "output_type": "execute_result"
    }
   ],
   "source": [
    "np.hstack([a, b]) + v[:, np.newaxis]  # equivalently, we can add an axis"
   ]
  },
  {
   "cell_type": "markdown",
   "metadata": {},
   "source": [
    "## Working on subset of the elements\n",
    "\n",
    "We have two ways in order to apply operations on subparts of arrays (besides slicing).\n",
    "\n",
    "#### Slicing reminders"
   ]
  },
  {
   "cell_type": "code",
   "execution_count": 39,
   "metadata": {
    "execution": {
     "iopub.execute_input": "2022-10-20T20:19:27.819283Z",
     "iopub.status.busy": "2022-10-20T20:19:27.819080Z",
     "iopub.status.idle": "2022-10-20T20:19:27.840564Z",
     "shell.execute_reply": "2022-10-20T20:19:27.839972Z"
    }
   },
   "outputs": [],
   "source": [
    "r = np.random.randint(0, 9, size=(3, 4))"
   ]
  },
  {
   "cell_type": "code",
   "execution_count": 40,
   "metadata": {
    "execution": {
     "iopub.execute_input": "2022-10-20T20:19:27.843519Z",
     "iopub.status.busy": "2022-10-20T20:19:27.843338Z",
     "iopub.status.idle": "2022-10-20T20:19:27.861701Z",
     "shell.execute_reply": "2022-10-20T20:19:27.861242Z"
    }
   },
   "outputs": [
    {
     "data": {
      "text/plain": [
       "array([[4, 2, 2, 0],\n",
       "       [7, 3, 2, 8],\n",
       "       [5, 4, 8, 6]])"
      ]
     },
     "execution_count": 40,
     "metadata": {},
     "output_type": "execute_result"
    }
   ],
   "source": [
    "r"
   ]
  },
  {
   "cell_type": "code",
   "execution_count": 41,
   "metadata": {
    "execution": {
     "iopub.execute_input": "2022-10-20T20:19:27.864467Z",
     "iopub.status.busy": "2022-10-20T20:19:27.864280Z",
     "iopub.status.idle": "2022-10-20T20:19:27.882410Z",
     "shell.execute_reply": "2022-10-20T20:19:27.881904Z"
    }
   },
   "outputs": [
    {
     "data": {
      "text/plain": [
       "(array([4, 2, 2, 0]), array([7, 3, 2, 8]))"
      ]
     },
     "execution_count": 41,
     "metadata": {},
     "output_type": "execute_result"
    }
   ],
   "source": [
    "r[0], r[1]"
   ]
  },
  {
   "cell_type": "code",
   "execution_count": 42,
   "metadata": {
    "execution": {
     "iopub.execute_input": "2022-10-20T20:19:27.884923Z",
     "iopub.status.busy": "2022-10-20T20:19:27.884756Z",
     "iopub.status.idle": "2022-10-20T20:19:27.903215Z",
     "shell.execute_reply": "2022-10-20T20:19:27.902681Z"
    }
   },
   "outputs": [
    {
     "data": {
      "text/plain": [
       "array([[4, 2, 2, 0],\n",
       "       [7, 3, 2, 8]])"
      ]
     },
     "execution_count": 42,
     "metadata": {},
     "output_type": "execute_result"
    }
   ],
   "source": [
    "r[0:2]"
   ]
  },
  {
   "cell_type": "code",
   "execution_count": 43,
   "metadata": {
    "execution": {
     "iopub.execute_input": "2022-10-20T20:19:27.905901Z",
     "iopub.status.busy": "2022-10-20T20:19:27.905710Z",
     "iopub.status.idle": "2022-10-20T20:19:27.924157Z",
     "shell.execute_reply": "2022-10-20T20:19:27.923650Z"
    }
   },
   "outputs": [
    {
     "data": {
      "text/plain": [
       "np.int64(2)"
      ]
     },
     "execution_count": 43,
     "metadata": {},
     "output_type": "execute_result"
    }
   ],
   "source": [
    "r[1][2]  # regular python"
   ]
  },
  {
   "cell_type": "code",
   "execution_count": 44,
   "metadata": {
    "execution": {
     "iopub.execute_input": "2022-10-20T20:19:27.926878Z",
     "iopub.status.busy": "2022-10-20T20:19:27.926693Z",
     "iopub.status.idle": "2022-10-20T20:19:27.944563Z",
     "shell.execute_reply": "2022-10-20T20:19:27.944076Z"
    }
   },
   "outputs": [
    {
     "data": {
      "text/plain": [
       "np.int64(2)"
      ]
     },
     "execution_count": 44,
     "metadata": {},
     "output_type": "execute_result"
    }
   ],
   "source": [
    "r[1, 2]  # numpy"
   ]
  },
  {
   "cell_type": "code",
   "execution_count": 45,
   "metadata": {
    "execution": {
     "iopub.execute_input": "2022-10-20T20:19:27.947168Z",
     "iopub.status.busy": "2022-10-20T20:19:27.946980Z",
     "iopub.status.idle": "2022-10-20T20:19:27.965581Z",
     "shell.execute_reply": "2022-10-20T20:19:27.965114Z"
    }
   },
   "outputs": [
    {
     "data": {
      "text/plain": [
       "array([[2, 2],\n",
       "       [3, 2],\n",
       "       [4, 8]])"
      ]
     },
     "execution_count": 45,
     "metadata": {},
     "output_type": "execute_result"
    }
   ],
   "source": [
    "r[:, 1:3]"
   ]
  },
  {
   "cell_type": "markdown",
   "metadata": {},
   "source": [
    "#### Binary masks\n",
    "\n",
    "Using logical operations on arrays give a binary mask. Using a binary mask as indexing acts as a filter and outputs just the very elements where the value is True. This gives a memory view of the array that can get modified."
   ]
  },
  {
   "cell_type": "code",
   "execution_count": 46,
   "metadata": {
    "execution": {
     "iopub.execute_input": "2022-10-20T20:19:27.968242Z",
     "iopub.status.busy": "2022-10-20T20:19:27.968023Z",
     "iopub.status.idle": "2022-10-20T20:19:27.986798Z",
     "shell.execute_reply": "2022-10-20T20:19:27.986298Z"
    }
   },
   "outputs": [
    {
     "data": {
      "text/plain": [
       "array([[False, False, False, False],\n",
       "       [ True, False, False,  True],\n",
       "       [False, False,  True,  True]])"
      ]
     },
     "execution_count": 46,
     "metadata": {},
     "output_type": "execute_result"
    }
   ],
   "source": [
    "r > 5  # Binary element-wise result"
   ]
  },
  {
   "cell_type": "code",
   "execution_count": 47,
   "metadata": {
    "execution": {
     "iopub.execute_input": "2022-10-20T20:19:27.989747Z",
     "iopub.status.busy": "2022-10-20T20:19:27.989528Z",
     "iopub.status.idle": "2022-10-20T20:19:28.008215Z",
     "shell.execute_reply": "2022-10-20T20:19:28.007747Z"
    }
   },
   "outputs": [
    {
     "data": {
      "text/plain": [
       "array([7, 8, 8, 6])"
      ]
     },
     "execution_count": 47,
     "metadata": {},
     "output_type": "execute_result"
    }
   ],
   "source": [
    "r[r > 5]  # Use the binary mask as filter"
   ]
  },
  {
   "cell_type": "code",
   "execution_count": 48,
   "metadata": {
    "execution": {
     "iopub.execute_input": "2022-10-20T20:19:28.011002Z",
     "iopub.status.busy": "2022-10-20T20:19:28.010843Z",
     "iopub.status.idle": "2022-10-20T20:19:28.028377Z",
     "shell.execute_reply": "2022-10-20T20:19:28.027669Z"
    }
   },
   "outputs": [],
   "source": [
    "r[r > 5] = 999  # Modify the corresponding values with a constant"
   ]
  },
  {
   "cell_type": "code",
   "execution_count": 49,
   "metadata": {
    "execution": {
     "iopub.execute_input": "2022-10-20T20:19:28.031370Z",
     "iopub.status.busy": "2022-10-20T20:19:28.031163Z",
     "iopub.status.idle": "2022-10-20T20:19:28.052507Z",
     "shell.execute_reply": "2022-10-20T20:19:28.052024Z"
    }
   },
   "outputs": [
    {
     "data": {
      "text/plain": [
       "array([[  4,   2,   2,   0],\n",
       "       [999,   3,   2, 999],\n",
       "       [  5,   4, 999, 999]])"
      ]
     },
     "execution_count": 49,
     "metadata": {},
     "output_type": "execute_result"
    }
   ],
   "source": [
    "r"
   ]
  },
  {
   "cell_type": "markdown",
   "metadata": {
    "collapsed": true,
    "jupyter": {
     "outputs_hidden": true
    }
   },
   "source": [
    "#### Working with indices\n",
    "\n",
    "The second way to work on subpart of arrays are through indices. Usually you'd use one array per dimension with matching indices.\n",
    "\n",
    "**WARNING** : indices are usually slower than binary masks because it is harder to be parallelized by the underlying BLAS library."
   ]
  },
  {
   "cell_type": "code",
   "execution_count": 50,
   "metadata": {
    "execution": {
     "iopub.execute_input": "2022-10-20T20:19:28.055020Z",
     "iopub.status.busy": "2022-10-20T20:19:28.054853Z",
     "iopub.status.idle": "2022-10-20T20:19:28.075198Z",
     "shell.execute_reply": "2022-10-20T20:19:28.074769Z"
    }
   },
   "outputs": [
    {
     "data": {
      "text/plain": [
       "(array([1, 1, 2, 2]), array([0, 3, 2, 3]))"
      ]
     },
     "execution_count": 50,
     "metadata": {},
     "output_type": "execute_result"
    }
   ],
   "source": [
    "# Get the indices where the condition is true, gives a tuple whose length\n",
    "# is the number of dimensions of the input array\n",
    "np.where(r == 999)"
   ]
  },
  {
   "cell_type": "code",
   "execution_count": 51,
   "metadata": {
    "execution": {
     "iopub.execute_input": "2022-10-20T20:19:28.077954Z",
     "iopub.status.busy": "2022-10-20T20:19:28.077769Z",
     "iopub.status.idle": "2022-10-20T20:19:28.099140Z",
     "shell.execute_reply": "2022-10-20T20:19:28.098340Z"
    }
   },
   "outputs": [
    {
     "name": "stdout",
     "output_type": "stream",
     "text": [
      "(array([0, 1, 2, 3, 4]),)\n"
     ]
    },
    {
     "data": {
      "text/plain": [
       "array([0, 1, 2, 3, 4])"
      ]
     },
     "execution_count": 51,
     "metadata": {},
     "output_type": "execute_result"
    }
   ],
   "source": [
    "print(np.where(np.arange(10) < 5))  # Is a 1-tuple\n",
    "np.where(np.arange(10) < 5)[0]  # Accessing the first element gives the indices array"
   ]
  },
  {
   "cell_type": "code",
   "execution_count": 52,
   "metadata": {
    "execution": {
     "iopub.execute_input": "2022-10-20T20:19:28.102013Z",
     "iopub.status.busy": "2022-10-20T20:19:28.101775Z",
     "iopub.status.idle": "2022-10-20T20:19:28.121611Z",
     "shell.execute_reply": "2022-10-20T20:19:28.120995Z"
    }
   },
   "outputs": [
    {
     "data": {
      "text/plain": [
       "array([[1004, 1002, 1002, 1000],\n",
       "       [ -10, 1003, 1002,  -10],\n",
       "       [1005, 1004,  -10,  -10]])"
      ]
     },
     "execution_count": 52,
     "metadata": {},
     "output_type": "execute_result"
    }
   ],
   "source": [
    "np.where(\n",
    "    r == 999, -10, r + 1000\n",
    ")  # Ternary condition, if True take element from first array, otherwise from second"
   ]
  },
  {
   "cell_type": "code",
   "execution_count": 53,
   "metadata": {
    "execution": {
     "iopub.execute_input": "2022-10-20T20:19:28.124114Z",
     "iopub.status.busy": "2022-10-20T20:19:28.123923Z",
     "iopub.status.idle": "2022-10-20T20:19:28.142658Z",
     "shell.execute_reply": "2022-10-20T20:19:28.142143Z"
    }
   },
   "outputs": [
    {
     "data": {
      "text/plain": [
       "array([  2, 999])"
      ]
     },
     "execution_count": 53,
     "metadata": {},
     "output_type": "execute_result"
    }
   ],
   "source": [
    "r[\n",
    "    (np.array([1, 2]), np.array([2, 2]))\n",
    "]  # Gets the view corresponding to the indices. NB : iterable of arrays as indexing"
   ]
  },
  {
   "cell_type": "markdown",
   "metadata": {},
   "source": [
    "# Working with arrays, examples\n",
    "\n",
    "Thanks to all these tools, you should be able to avoid writing almost any for-loops which are extremely costly in Python (even more than in Matlab, because good JIT engines are yet to come). In case you **really** need for-loops for array computation (usually not needed but it happens) have a look at http://numba.pydata.org/ (_For advanced users_)\n",
    "\n",
    "#### Counting the number of positive elements that satisfy a condition"
   ]
  },
  {
   "cell_type": "code",
   "execution_count": 54,
   "metadata": {
    "execution": {
     "iopub.execute_input": "2022-10-20T20:19:28.145321Z",
     "iopub.status.busy": "2022-10-20T20:19:28.145129Z",
     "iopub.status.idle": "2022-10-20T20:19:28.189004Z",
     "shell.execute_reply": "2022-10-20T20:19:28.187982Z"
    }
   },
   "outputs": [],
   "source": [
    "numbers = np.random.randn(1000, 1000)"
   ]
  },
  {
   "cell_type": "code",
   "execution_count": 55,
   "metadata": {
    "execution": {
     "iopub.execute_input": "2022-10-20T20:19:28.191921Z",
     "iopub.status.busy": "2022-10-20T20:19:28.191711Z",
     "iopub.status.idle": "2022-10-20T20:19:43.589805Z",
     "shell.execute_reply": "2022-10-20T20:19:43.589198Z"
    }
   },
   "outputs": [
    {
     "name": "stdout",
     "output_type": "stream",
     "text": [
      "48.9 ms ± 808 μs per loop (mean ± std. dev. of 7 runs, 10 loops each)\n"
     ]
    }
   ],
   "source": [
    "%%timeit  # Naive version\n",
    "my_sum = 0\n",
    "for n in numbers.ravel():\n",
    "    if n > 0:\n",
    "        my_sum += 1"
   ]
  },
  {
   "cell_type": "code",
   "execution_count": 56,
   "metadata": {
    "execution": {
     "iopub.execute_input": "2022-10-20T20:19:43.593044Z",
     "iopub.status.busy": "2022-10-20T20:19:43.592841Z",
     "iopub.status.idle": "2022-10-20T20:19:51.758953Z",
     "shell.execute_reply": "2022-10-20T20:19:51.758390Z"
    }
   },
   "outputs": [
    {
     "name": "stdout",
     "output_type": "stream",
     "text": [
      "510 μs ± 1.39 μs per loop (mean ± std. dev. of 7 runs, 1,000 loops each)\n"
     ]
    }
   ],
   "source": [
    "%timeit np.sum(numbers > 0)"
   ]
  },
  {
   "cell_type": "markdown",
   "metadata": {},
   "source": [
    "#### Compute polynomial for a lot of values"
   ]
  },
  {
   "cell_type": "code",
   "execution_count": 57,
   "metadata": {
    "execution": {
     "iopub.execute_input": "2022-10-20T20:19:51.761595Z",
     "iopub.status.busy": "2022-10-20T20:19:51.761390Z",
     "iopub.status.idle": "2022-10-20T20:19:51.779107Z",
     "shell.execute_reply": "2022-10-20T20:19:51.778492Z"
    }
   },
   "outputs": [],
   "source": [
    "X = np.random.randn(10000)"
   ]
  },
  {
   "cell_type": "code",
   "execution_count": 58,
   "metadata": {
    "execution": {
     "iopub.execute_input": "2022-10-20T20:19:51.781870Z",
     "iopub.status.busy": "2022-10-20T20:19:51.781676Z",
     "iopub.status.idle": "2022-10-20T20:19:59.133725Z",
     "shell.execute_reply": "2022-10-20T20:19:59.133241Z"
    }
   },
   "outputs": [
    {
     "name": "stdout",
     "output_type": "stream",
     "text": [
      "2.98 ms ± 18.3 μs per loop (mean ± std. dev. of 7 runs, 100 loops each)\n"
     ]
    }
   ],
   "source": [
    "%%timeit  # Naive version\n",
    "my_result = np.zeros(len(X))\n",
    "for i, x in enumerate(X.ravel()):\n",
    "    my_result[i] = 1 + x + x**2 + x**3 + x**4"
   ]
  },
  {
   "cell_type": "code",
   "execution_count": 59,
   "metadata": {
    "execution": {
     "iopub.execute_input": "2022-10-20T20:19:59.136408Z",
     "iopub.status.busy": "2022-10-20T20:19:59.136239Z",
     "iopub.status.idle": "2022-10-20T20:20:02.767118Z",
     "shell.execute_reply": "2022-10-20T20:20:02.766589Z"
    }
   },
   "outputs": [
    {
     "name": "stdout",
     "output_type": "stream",
     "text": [
      "209 μs ± 916 ns per loop (mean ± std. dev. of 7 runs, 1,000 loops each)\n"
     ]
    }
   ],
   "source": [
    "%timeit 1 + X + X**2 + X**3 + X**4"
   ]
  },
  {
   "cell_type": "markdown",
   "metadata": {},
   "source": [
    "## SciPy\n",
    "\n",
    "SciPy is a collection of libraries more specialized than Numpy. It is the equivalent of toolboxes in Matlab.\n",
    "\n",
    "Have a look at their collection: http://docs.scipy.org/doc/scipy/reference/\n",
    "\n",
    "Many traditionnal functions are coded there."
   ]
  },
  {
   "cell_type": "code",
   "execution_count": 14,
   "metadata": {
    "execution": {
     "iopub.execute_input": "2025-09-11T12:43:28.734250Z",
     "iopub.status.busy": "2025-09-11T12:43:28.733851Z",
     "iopub.status.idle": "2025-09-11T12:43:28.745740Z",
     "shell.execute_reply": "2025-09-11T12:43:28.745216Z",
     "shell.execute_reply.started": "2025-09-11T12:43:28.734231Z"
    }
   },
   "outputs": [],
   "source": [
    "X = np.random.randn(1000)"
   ]
  },
  {
   "cell_type": "code",
   "execution_count": null,
   "metadata": {},
   "outputs": [],
   "source": []
  },
  {
   "cell_type": "code",
   "execution_count": 61,
   "metadata": {
    "execution": {
     "iopub.execute_input": "2022-10-20T20:20:02.790929Z",
     "iopub.status.busy": "2022-10-20T20:20:02.790763Z",
     "iopub.status.idle": "2022-10-20T20:20:03.148198Z",
     "shell.execute_reply": "2022-10-20T20:20:03.147769Z"
    },
    "scrolled": true
   },
   "outputs": [
    {
     "data": {
      "text/plain": [
       "[<matplotlib.lines.Line2D at 0x11914ad50>]"
      ]
     },
     "execution_count": 61,
     "metadata": {},
     "output_type": "execute_result"
    },
    {
     "data": {
      "image/png": "[encoded data removed]",
      "text/plain": [
       "<Figure size 640x480 with 1 Axes>"
      ]
     },
     "metadata": {},
     "output_type": "display_data"
    }
   ],
   "source": [
    "from scipy.fftpack import fft\n",
    "\n",
    "plt.plot(fft(X).real)\n",
    "plot.plot"
   ]
  },
  {
   "cell_type": "code",
   "execution_count": null,
   "metadata": {},
   "outputs": [],
   "source": []
  },
  {
   "cell_type": "code",
   "execution_count": null,
   "metadata": {},
   "outputs": [],
   "source": []
  },
  {
   "cell_type": "code",
   "execution_count": null,
   "metadata": {},
   "outputs": [],
   "source": []
  }
 ],
 "metadata": {
  "kernelspec": {
   "display_name": "Python3",
   "language": "python",
   "name": "python3"
  },
  "language_info": {
   "codemirror_mode": {
    "name": "ipython",
    "version": 3
   },
   "file_extension": ".py",
   "mimetype": "text/x-python",
   "name": "python",
   "nbconvert_exporter": "python",
   "pygments_lexer": "ipython3",
   "version": "3.12.11"
  }
 },
 "nbformat": 4,
 "nbformat_minor": 4
}
