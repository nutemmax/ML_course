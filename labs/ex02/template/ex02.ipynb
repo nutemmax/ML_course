{
 "cells": [
  {
   "cell_type": "code",
   "execution_count": 62,
   "metadata": {
    "execution": {
     "iopub.execute_input": "2025-09-18T13:51:14.737471Z",
     "iopub.status.busy": "2025-09-18T13:51:14.737103Z",
     "iopub.status.idle": "2025-09-18T13:51:14.754352Z",
     "shell.execute_reply": "2025-09-18T13:51:14.753728Z",
     "shell.execute_reply.started": "2025-09-18T13:51:14.737444Z"
    }
   },
   "outputs": [
    {
     "name": "stdout",
     "output_type": "stream",
     "text": [
      "The autoreload extension is already loaded. To reload it, use:\n",
      "  %reload_ext autoreload\n"
     ]
    }
   ],
   "source": [
    "# Useful starting lines\n",
    "%matplotlib inline\n",
    "import numpy as np\n",
    "import matplotlib.pyplot as plt\n",
    "\n",
    "%load_ext autoreload\n",
    "%autoreload 2"
   ]
  },
  {
   "cell_type": "markdown",
   "metadata": {},
   "source": [
    "# Load the data"
   ]
  },
  {
   "cell_type": "code",
   "execution_count": 63,
   "metadata": {
    "execution": {
     "iopub.execute_input": "2025-09-18T13:51:14.755598Z",
     "iopub.status.busy": "2025-09-18T13:51:14.755358Z",
     "iopub.status.idle": "2025-09-18T13:51:14.827657Z",
     "shell.execute_reply": "2025-09-18T13:51:14.826968Z",
     "shell.execute_reply.started": "2025-09-18T13:51:14.755568Z"
    }
   },
   "outputs": [],
   "source": [
    "import datetime\n",
    "from helpers import *\n",
    "\n",
    "height, weight, gender = load_data(sub_sample=False, add_outlier=False)\n",
    "x, mean_x, std_x = standardize(height)\n",
    "y, tx = build_model_data(x, weight)"
   ]
  },
  {
   "cell_type": "code",
   "execution_count": 64,
   "metadata": {
    "execution": {
     "iopub.execute_input": "2025-09-18T13:51:14.828601Z",
     "iopub.status.busy": "2025-09-18T13:51:14.828384Z",
     "iopub.status.idle": "2025-09-18T13:51:14.842278Z",
     "shell.execute_reply": "2025-09-18T13:51:14.841702Z",
     "shell.execute_reply.started": "2025-09-18T13:51:14.828581Z"
    }
   },
   "outputs": [
    {
     "data": {
      "text/plain": [
       "((10000,), (10000, 2))"
      ]
     },
     "execution_count": 64,
     "metadata": {},
     "output_type": "execute_result"
    }
   ],
   "source": [
    "y.shape, tx.shape"
   ]
  },
  {
   "cell_type": "markdown",
   "metadata": {},
   "source": [
    "### NB: throughout this laboratory the data has the following format: \n",
    "  * there are **N = 10000** data entries\n",
    "  * **y** represents the column vector containing weight information -- that which we wish to predict/the output (see also the first page of $\\texttt{exercise02.pdf}$). Its **shape** is **(N,)**.\n",
    "  * **tx** represents the matrix $\\tilde{X}$ formed by laterally concatenating a column vector of 1s to the column vector of height information -- the input data (see also the first page of $\\texttt{exercise02.pdf}$). Its **shape** is **(N,2)**."
   ]
  },
  {
   "cell_type": "markdown",
   "metadata": {},
   "source": [
    "# 1. Computing the Cost Function\n",
    "Fill in the `compute_loss` function below:"
   ]
  },
  {
   "cell_type": "code",
   "execution_count": 65,
   "metadata": {
    "execution": {
     "iopub.execute_input": "2025-09-18T13:51:14.843222Z",
     "iopub.status.busy": "2025-09-18T13:51:14.842977Z",
     "iopub.status.idle": "2025-09-18T13:51:14.866366Z",
     "shell.execute_reply": "2025-09-18T13:51:14.865693Z",
     "shell.execute_reply.started": "2025-09-18T13:51:14.843201Z"
    }
   },
   "outputs": [],
   "source": [
    "def compute_loss(y, tx, w, loss_type = \"MSE\"):\n",
    "    \"\"\"Calculate the loss using either MSE or MAE.\n",
    "\n",
    "    Args:\n",
    "        y: numpy array of shape=(N, )\n",
    "        tx: numpy array of shape=(N,2)\n",
    "        w: numpy array of shape=(2,). The vector of model parameters.\n",
    "\n",
    "    Returns:\n",
    "        the value of the loss (a scalar), corresponding to the input parameters w.\n",
    "    \"\"\"\n",
    "    e = y - tx @ w\n",
    "    N = len(y)\n",
    "        \n",
    "    MAE = 1/N * sum(np.abs(e[i]) for i in range(N))\n",
    "    MSE = 1/(2*N) * (e @ e)\n",
    "    MSE2 = 1/(2*N) * sum(e[i]**2 for i in range(N)) # equivalent\n",
    "    \n",
    "    if loss_type == 'MSE' : \n",
    "        return MSE\n",
    "    else : \n",
    "        return MAE\n",
    "    raise ValueError(\"Loss type should be MSE or MAE\")"
   ]
  },
  {
   "cell_type": "code",
   "execution_count": 66,
   "metadata": {
    "execution": {
     "iopub.execute_input": "2025-09-18T13:51:14.868221Z",
     "iopub.status.busy": "2025-09-18T13:51:14.867951Z",
     "iopub.status.idle": "2025-09-18T13:51:14.894283Z",
     "shell.execute_reply": "2025-09-18T13:51:14.893629Z",
     "shell.execute_reply.started": "2025-09-18T13:51:14.868198Z"
    }
   },
   "outputs": [
    {
     "name": "stdout",
     "output_type": "stream",
     "text": [
      "MSE: 0.0\n",
      "MAE: 0.0\n",
      "MSE: 1.25\n",
      "MAE: 1.5\n"
     ]
    }
   ],
   "source": [
    "# TEST on small dataset : N=2\n",
    "y  = np.array([1, 2])\n",
    "tx = np.array([[1, 1],   # first row: [1, x1] = [1, 1]\n",
    "               [1, 2]])  # second row: [1, x2] = [1, 2]\n",
    "w  = np.array([0, 1])    # w0=0, w1=1\n",
    "\n",
    "print(\"MSE:\", compute_loss(y, tx, w, \"MSE\"))   # expect 0\n",
    "print(\"MAE:\", compute_loss(y, tx, w, \"MAE\"))   # expect 0\n",
    "\n",
    "# change weights a bit\n",
    "w = np.array([0, 0])  # predict constant 0 ; e = [1,2] - [0,0] = [1,2]\n",
    "\n",
    "print(\"MSE:\", compute_loss(y, tx, w, \"MSE\"))   # (1^2+2^2)/(2*2)=5/4=1.25\n",
    "print(\"MAE:\", compute_loss(y, tx, w, \"MAE\"))   # (|1|+|2|)/2=1.5"
   ]
  },
  {
   "cell_type": "markdown",
   "metadata": {},
   "source": [
    "# 2. Grid Search"
   ]
  },
  {
   "cell_type": "markdown",
   "metadata": {},
   "source": [
    "Fill in the function `grid_search()` below:"
   ]
  },
  {
   "cell_type": "code",
   "execution_count": 67,
   "metadata": {
    "execution": {
     "iopub.execute_input": "2025-09-18T13:51:14.895163Z",
     "iopub.status.busy": "2025-09-18T13:51:14.894933Z",
     "iopub.status.idle": "2025-09-18T13:51:14.919447Z",
     "shell.execute_reply": "2025-09-18T13:51:14.918809Z",
     "shell.execute_reply.started": "2025-09-18T13:51:14.895143Z"
    }
   },
   "outputs": [],
   "source": [
    "# from costs import *\n",
    "\n",
    "def grid_search(y, tx, grid_w0, grid_w1):\n",
    "    \"\"\"Algorithm for grid search.\n",
    "\n",
    "    Args:\n",
    "        y: numpy array of shape=(N, )\n",
    "        tx: numpy array of shape=(N,2)\n",
    "        grid_w0: numpy array of shape=(num_grid_pts_w0, ). A 1D array containing num_grid_pts_w0 values of parameter w0 to be tested in the grid search.\n",
    "        grid_w1: numpy array of shape=(num_grid_pts_w1, ). A 1D array containing num_grid_pts_w1 values of parameter w1 to be tested in the grid search.\n",
    "\n",
    "    Returns:\n",
    "        losses: numpy array of shape=(num_grid_pts_w0, num_grid_pts_w1). A 2D array containing the loss value for each combination of w0 and w1\n",
    "    \"\"\"\n",
    "    # ***************************************************\n",
    "    # INSERT YOUR CODE HERE\n",
    "    # TODO: compute loss for each combination of w0 and w1.\n",
    "    # ***************************************************\n",
    "\n",
    "    losses = np.zeros((len(grid_w0), len(grid_w1)))\n",
    "\n",
    "    n = len(grid_w0)\n",
    "    m = len(grid_w1)\n",
    "\n",
    "    for i, w0 in enumerate(grid_w0) : \n",
    "        for j, w1 in enumerate(grid_w1) : \n",
    "            w = np.array([grid_w0[i], grid_w1[j]])\n",
    "            # w = np.array([w0,w1])\n",
    "            losses[i,j] = compute_loss(y, tx, w)\n",
    "    return losses"
   ]
  },
  {
   "cell_type": "markdown",
   "metadata": {},
   "source": [
    "Let us play with the grid search demo now!"
   ]
  },
  {
   "cell_type": "code",
   "execution_count": 68,
   "metadata": {
    "execution": {
     "iopub.execute_input": "2025-09-18T13:51:14.920451Z",
     "iopub.status.busy": "2025-09-18T13:51:14.920228Z",
     "iopub.status.idle": "2025-09-18T13:51:15.380200Z",
     "shell.execute_reply": "2025-09-18T13:51:15.379572Z",
     "shell.execute_reply.started": "2025-09-18T13:51:14.920431Z"
    }
   },
   "outputs": [
    {
     "name": "stdout",
     "output_type": "stream",
     "text": [
      "Grid Search: loss*=62.36111111111123, w0*=33.33333333333334, w1*=-16.666666666666657, execution time=0.001 seconds\n"
     ]
    },
    {
     "data": {
      "image/png": "[encoded data removed]",
      "text/plain": [
       "<Figure size 1000x600 with 3 Axes>"
      ]
     },
     "metadata": {},
     "output_type": "display_data"
    }
   ],
   "source": [
    "from grid_search import generate_w, get_best_parameters\n",
    "from plots import grid_visualization\n",
    "\n",
    "# Generate the grid of parameters to be swept\n",
    "grid_w0, grid_w1 = generate_w(num_intervals=10)\n",
    "\n",
    "# Start the grid search\n",
    "start_time = datetime.datetime.now()\n",
    "grid_losses = grid_search(y, tx, grid_w0, grid_w1)\n",
    "\n",
    "# Select the best combinaison\n",
    "loss_star, w0_star, w1_star = get_best_parameters(grid_w0, grid_w1, grid_losses)\n",
    "end_time = datetime.datetime.now()\n",
    "execution_time = (end_time - start_time).total_seconds()\n",
    "\n",
    "# Print the results\n",
    "print(\n",
    "    \"Grid Search: loss*={l}, w0*={w0}, w1*={w1}, execution time={t:.3f} seconds\".format(\n",
    "        l=loss_star, w0=w0_star, w1=w1_star, t=execution_time\n",
    "    )\n",
    ")\n",
    "\n",
    "# Plot the results\n",
    "fig = grid_visualization(grid_losses, grid_w0, grid_w1, mean_x, std_x, height, weight)\n",
    "fig.set_size_inches(10.0, 6.0)\n",
    "fig.savefig(\"grid_plot\")  # Optional saving"
   ]
  },
  {
   "cell_type": "markdown",
   "metadata": {},
   "source": [
    "# 3. Gradient Descent"
   ]
  },
  {
   "cell_type": "markdown",
   "metadata": {},
   "source": [
    "Again, please fill in the functions `compute_gradient` below:"
   ]
  },
  {
   "cell_type": "code",
   "execution_count": 69,
   "metadata": {
    "execution": {
     "iopub.execute_input": "2025-09-18T13:51:15.381198Z",
     "iopub.status.busy": "2025-09-18T13:51:15.380922Z",
     "iopub.status.idle": "2025-09-18T13:51:15.393995Z",
     "shell.execute_reply": "2025-09-18T13:51:15.393374Z",
     "shell.execute_reply.started": "2025-09-18T13:51:15.381174Z"
    }
   },
   "outputs": [],
   "source": [
    "def compute_gradient(y, tx, w):\n",
    "    \"\"\"Computes the gradient at w.\n",
    "\n",
    "    Args:\n",
    "        y: numpy array of shape=(N, )\n",
    "        tx: numpy array of shape=(N,2)\n",
    "        w: numpy array of shape=(2, ). The vector of model parameters.\n",
    "\n",
    "    Returns:\n",
    "        An numpy array of shape (2, ) (same shape as w), containing the gradient of the loss at w.\n",
    "    \"\"\"\n",
    "    # ***************************************************\n",
    "    # INSERT YOUR CODE HERE\n",
    "    # TODO: compute gradient vector\n",
    "    # ***************************************************\n",
    "    N = y.shape[0]\n",
    "    e = y - tx @ w\n",
    "    grad_L = - 1/N * tx.T @ e\n",
    "    return grad_L"
   ]
  },
  {
   "cell_type": "code",
   "execution_count": 70,
   "metadata": {
    "execution": {
     "iopub.execute_input": "2025-09-18T13:51:15.394927Z",
     "iopub.status.busy": "2025-09-18T13:51:15.394701Z",
     "iopub.status.idle": "2025-09-18T13:51:15.626297Z",
     "shell.execute_reply": "2025-09-18T13:51:15.625434Z",
     "shell.execute_reply.started": "2025-09-18T13:51:15.394905Z"
    }
   },
   "outputs": [
    {
     "name": "stdout",
     "output_type": "stream",
     "text": [
      "Analytical gradient: [-2.5 -6. ]\n",
      "Numerical gradient : [-2.5 -6. ]\n"
     ]
    }
   ],
   "source": [
    "# test\n",
    "y = np.array([1.0, 2.0, 3.0])\n",
    "tx = np.c_[np.ones(3), np.array([1.0, 2.0, 3.0])]  # design matrix with intercept\n",
    "w = np.array([0.5, -0.5])  # arbitrary test weights\n",
    "\n",
    "# analytical gradient\n",
    "grad = compute_gradient(y, tx, w)\n",
    "print(\"Analytical gradient:\", grad)\n",
    "\n",
    "# numerical gradient\n",
    "eps = 1e-6\n",
    "num_grad = np.zeros_like(w)\n",
    "for i in range(len(w)):\n",
    "    w_eps = w.copy()\n",
    "    w_eps[i] += eps\n",
    "    loss_plus = compute_loss(y, tx, w_eps)\n",
    "    \n",
    "    w_eps = w.copy()\n",
    "    w_eps[i] -= eps\n",
    "    loss_minus = compute_loss(y, tx, w_eps)\n",
    "    \n",
    "    num_grad[i] = (loss_plus - loss_minus) / (2 * eps)\n",
    "print(\"Numerical gradient :\", num_grad)"
   ]
  },
  {
   "cell_type": "markdown",
   "metadata": {},
   "source": [
    "Please fill in the functions `gradient_descent` below:"
   ]
  },
  {
   "cell_type": "code",
   "execution_count": 82,
   "metadata": {
    "execution": {
     "iopub.execute_input": "2025-09-18T14:02:23.558033Z",
     "iopub.status.busy": "2025-09-18T14:02:23.557596Z",
     "iopub.status.idle": "2025-09-18T14:02:23.574506Z",
     "shell.execute_reply": "2025-09-18T14:02:23.573718Z",
     "shell.execute_reply.started": "2025-09-18T14:02:23.558000Z"
    }
   },
   "outputs": [],
   "source": [
    "def gradient_descent(y, tx, initial_w, max_iters, gamma):\n",
    "    \"\"\"The Gradient Descent (GD) algorithm.\n",
    "\n",
    "    Args:\n",
    "        y: numpy array of shape=(N, )\n",
    "        tx: numpy array of shape=(N,2)\n",
    "        initial_w: numpy array of shape=(2, ). The initial guess (or the initialization) for the model parameters\n",
    "        max_iters: a scalar denoting the total number of iterations of GD\n",
    "        gamma: a scalar denoting the stepsize\n",
    "\n",
    "    Returns:\n",
    "        losses: a list of length max_iters containing the loss value (scalar) for each iteration of GD\n",
    "        ws: a list of length max_iters + 1 containing the model parameters as numpy arrays of shape (2, ),\n",
    "            for each iteration of GD (as well as the final weights)\n",
    "    \"\"\"\n",
    "    # Define parameters to store w and loss\n",
    "    ws = [initial_w]\n",
    "    losses = [compute_loss(y,tx,initial_w)] # compute loss for initial w as well\n",
    "    w = initial_w\n",
    "    for n_iter in range(max_iters):\n",
    "        # compute grad\n",
    "        grad_L = compute_gradient(y,tx,w)  \n",
    "        # update weights, compute loss for new weights\n",
    "        w = w - gamma * grad_L\n",
    "        loss = compute_loss(y,tx,w)\n",
    "        \n",
    "        # store w and loss\n",
    "        ws.append(w)\n",
    "        losses.append(loss)\n",
    "        print(\n",
    "            \"GD iter. {bi}/{ti}: loss={l}, w0={w0}, w1={w1}\".format(\n",
    "                bi=n_iter, ti=max_iters - 1, l=loss, w0=w[0], w1=w[1]\n",
    "            )\n",
    "        )\n",
    "    return losses, ws"
   ]
  },
  {
   "cell_type": "markdown",
   "metadata": {},
   "source": [
    "Test your gradient descent function through gradient descent demo shown below:"
   ]
  },
  {
   "cell_type": "code",
   "execution_count": 83,
   "metadata": {
    "execution": {
     "iopub.execute_input": "2025-09-18T14:02:24.959444Z",
     "iopub.status.busy": "2025-09-18T14:02:24.958964Z",
     "iopub.status.idle": "2025-09-18T14:02:24.986845Z",
     "shell.execute_reply": "2025-09-18T14:02:24.985716Z",
     "shell.execute_reply.started": "2025-09-18T14:02:24.959402Z"
    }
   },
   "outputs": [
    {
     "name": "stdout",
     "output_type": "stream",
     "text": [
      "GD iter. 0/49: loss=19.31481481481481, w0=1.4, w1=3.266666666666666\n",
      "GD iter. 1/49: loss=160.42523374485592, w0=-2.7533333333333325, w1=-6.097777777777777\n",
      "GD iter. 2/49: loss=1332.917854912665, w0=9.110888888888889, w1=20.94296296296296\n",
      "GD iter. 3/49: loss=11075.136623665148, w0=-25.18688148148147, w1=-56.95929382716047\n",
      "GD iter. 4/49: loss=92022.98441021751, w0=73.58694691358019, w1=167.63603341563774\n",
      "GD iter. 5/49: loss=764616.5396202818, w0=-211.21436270781876, w1=-479.7300680877911\n",
      "GD iter. 6/49: loss=6353178.797514302, w0=609.6577865105619, w1=1386.354928789939\n",
      "GD iter. 7/49: loss=52788396.387612745, w0=-1756.5995643527458, w1=-3992.658739705315\n",
      "GD iter. 8/49: loss=438617404.45197284, w0=5064.142366281616, w1=11512.53253342589\n",
      "GD iter. 9/49: loss=3644460537.9292192, w0=-14596.902836911762, w1=-33181.606388559616\n",
      "GD iter. 10/49: loss=30281727258.788483, w0=42076.57809290991, w1=95650.57178574492\n",
      "GD iter. 11/49: loss=251610079525.52142, w0=-121286.4270721699, w1=-275711.9053777624\n",
      "GD iter. 12/49: loss=2090621567845.6118, w0=349612.1394072164, w1=794751.2500906326\n",
      "GD iter. 13/49: loss=17370919909819.95, w0=-1007766.7083047207, w1=-2290889.8953755368\n",
      "GD iter. 14/49: loss=144334519051351.66, w0=2904917.2410343345, w1=6603560.421144491\n",
      "GD iter. 15/49: loss=1199271742540717.0, w0=-8373508.017291985, w1=-19034951.158708915\n",
      "GD iter. 16/49: loss=9964717531950500.0, w0=24136880.617004883, w1=54868803.78394899\n",
      "GD iter. 17/49: loss=8.279657726379758e+16, w0=-69575259.7124271, w1=-158160918.17409116\n",
      "GD iter. 18/49: loss=6.87954594259146e+17, w0=200552708.92999947, w1=455903448.05867106\n",
      "GD iter. 19/49: loss=5.716196724586179e+18, w0=-578099013.2031395, w1=-1314154938.1683204\n",
      "GD iter. 20/49: loss=4.7495729030427e+19, w0=1666387210.8747065, w1=3788089814.9325876\n",
      "GD iter. 21/49: loss=3.946407698722192e+20, w0=-4803409576.243211, w1=-10919279005.805122\n",
      "GD iter. 22/49: loss=3.279059831791736e+21, w0=13845967736.654205, w1=31475139156.498764\n",
      "GD iter. 23/49: loss=2.7245622351566756e+22, w0=-39911404496.702, w1=-90728003582.77974\n",
      "GD iter. 24/49: loss=2.2638316328573226e+23, w0=115045783668.28104, w1=261526107752.95026\n",
      "GD iter. 25/49: loss=1.8810117808267795e+24, w0=-331622815752.246, w1=-753856608039.0139\n",
      "GD iter. 26/49: loss=1.5629277673549175e+25, w0=955912406530.3456, w1=2173013586944.8425\n",
      "GD iter. 27/49: loss=1.2986325927716114e+26, w0=-2755445299762.2754, w1=-6263774832880.859\n",
      "GD iter. 28/49: loss=1.0790304236918398e+27, w0=7942651176105.918, w1=18055513040867.062\n",
      "GD iter. 29/49: loss=8.96563555953625e+27, w0=-22894922904380.71, w1=-52045541205843.69\n",
      "GD iter. 30/49: loss=7.449523129421729e+28, w0=65995280816868.35, w1=150022785466048.62\n",
      "GD iter. 31/49: loss=6.189789277879128e+29, w0=-190233315407406.2, w1=-432445040199989.25\n",
      "GD iter. 32/49: loss=5.143079716502805e+30, w0=548353061657764.44, w1=1246535399357014.0\n",
      "GD iter. 33/49: loss=4.273371480485335e+31, w0=-1580643640602488.8, w1=-3593174524863432.0\n",
      "GD iter. 34/49: loss=3.550733182615929e+32, w0=4556251242628059.0, w1=1.0357430019867268e+16\n",
      "GD iter. 35/49: loss=2.9502949115713085e+33, w0=-1.3133526655025756e+16, w1=-2.9855593118045084e+16\n",
      "GD iter. 36/49: loss=2.4513923231006866e+34, w0=3.785777236875538e+16, w1=8.605961505127157e+16\n",
      "GD iter. 37/49: loss=2.036855467630676e+35, w0=-1.0912612936115355e+17, w1=-2.480693420991397e+17\n",
      "GD iter. 38/49: loss=1.6924178789828804e+36, w0=3.1455924013044954e+17, w1=7.15067089863665e+17\n",
      "GD iter. 39/49: loss=1.4062255877353514e+37, w0=-9.067261537699959e+17, w1=-2.061201673206936e+18\n",
      "GD iter. 40/49: loss=1.1684291617092034e+38, w0=2.613664496358712e+18, w1=5.941473741213716e+18\n",
      "GD iter. 41/49: loss=9.708447334762934e+38, w0=-7.533963888791589e+18, w1=-1.7126470774986617e+19\n",
      "GD iter. 42/49: loss=8.066723490022177e+39, w0=2.1716869918343782e+19, w1=4.936754986761121e+19\n",
      "GD iter. 43/49: loss=6.702619442706648e+40, w0=-6.259950883915256e+19, w1=-1.4230339758560004e+20\n",
      "GD iter. 44/49: loss=5.569188958728729e+41, w0=1.8044490396809426e+20, w1=4.1019368023550696e+20\n",
      "GD iter. 45/49: loss=4.627424535011519e+42, w0=-5.201376811392814e+20, w1=-1.182395207422481e+21\n",
      "GD iter. 46/49: loss=3.8449149393046465e+43, w0=1.4993119860496888e+21, w1=3.4082885570859505e+21\n",
      "GD iter. 47/49: loss=3.194729763529521e+44, w0=-4.321810384105424e+21, w1=-9.82449084319772e+21\n",
      "GD iter. 48/49: loss=2.6544926020722833e+45, w0=1.2457744065245177e+22, w1=2.831938044899575e+22\n",
      "GD iter. 49/49: loss=2.2056109580522806e+46, w0=-3.5909809409020494e+22, w1=-8.163143737573362e+22\n",
      "GD: execution time=0.004 seconds\n"
     ]
    }
   ],
   "source": [
    "# from gradient_descent import *\n",
    "from plots import gradient_descent_visualization\n",
    "\n",
    "# Define the parameters of the algorithm.\n",
    "max_iters = 50\n",
    "gamma = 0.7\n",
    "\n",
    "# Initialization\n",
    "w_initial = np.array([0, 0])\n",
    "\n",
    "# Start gradient descent.\n",
    "start_time = datetime.datetime.now()\n",
    "gd_losses, gd_ws = gradient_descent(y, tx, w_initial, max_iters, gamma)\n",
    "end_time = datetime.datetime.now()\n",
    "\n",
    "# Print result\n",
    "exection_time = (end_time - start_time).total_seconds()\n",
    "print(\"GD: execution time={t:.3f} seconds\".format(t=exection_time))"
   ]
  },
  {
   "cell_type": "code",
   "execution_count": 84,
   "metadata": {
    "execution": {
     "iopub.execute_input": "2025-09-18T14:02:25.420908Z",
     "iopub.status.busy": "2025-09-18T14:02:25.420454Z",
     "iopub.status.idle": "2025-09-18T14:02:25.851622Z",
     "shell.execute_reply": "2025-09-18T14:02:25.850855Z",
     "shell.execute_reply.started": "2025-09-18T14:02:25.420871Z"
    }
   },
   "outputs": [
    {
     "data": {
      "application/vnd.jupyter.widget-view+json": {
       "model_id": "7f291f9e9ea3481098fa95060d6730a7",
       "version_major": 2,
       "version_minor": 0
      },
      "text/plain": [
       "interactive(children=(IntSlider(value=1, description='n_iter', max=51, min=1), Output()), _dom_classes=('widge…"
      ]
     },
     "metadata": {},
     "output_type": "display_data"
    },
    {
     "data": {
      "text/plain": [
       "<function __main__.plot_figure(n_iter)>"
      ]
     },
     "execution_count": 84,
     "metadata": {},
     "output_type": "execute_result"
    },
    {
     "data": {
      "image/png": "[encoded data removed]",
      "text/plain": [
       "<Figure size 1000x600 with 3 Axes>"
      ]
     },
     "metadata": {},
     "output_type": "display_data"
    }
   ],
   "source": [
    "# Time Visualization\n",
    "from ipywidgets import IntSlider, interact\n",
    "\n",
    "\n",
    "def plot_figure(n_iter):\n",
    "    fig = gradient_descent_visualization(\n",
    "        gd_losses,\n",
    "        gd_ws,\n",
    "        grid_losses,\n",
    "        grid_w0,\n",
    "        grid_w1,\n",
    "        mean_x,\n",
    "        std_x,\n",
    "        height,\n",
    "        weight,\n",
    "        n_iter,\n",
    "    )\n",
    "    fig.set_size_inches(10.0, 6.0)\n",
    "\n",
    "\n",
    "interact(plot_figure, n_iter=IntSlider(min=1, max=len(gd_ws)))"
   ]
  },
  {
   "cell_type": "markdown",
   "metadata": {
    "collapsed": true,
    "jupyter": {
     "outputs_hidden": true
    }
   },
   "source": [
    "# 4. Stochastic gradient descent"
   ]
  },
  {
   "cell_type": "code",
   "execution_count": 85,
   "metadata": {
    "execution": {
     "iopub.execute_input": "2025-09-18T14:08:35.460216Z",
     "iopub.status.busy": "2025-09-18T14:08:35.459882Z",
     "iopub.status.idle": "2025-09-18T14:08:35.477464Z",
     "shell.execute_reply": "2025-09-18T14:08:35.476711Z",
     "shell.execute_reply.started": "2025-09-18T14:08:35.460188Z"
    }
   },
   "outputs": [],
   "source": [
    "def compute_stoch_gradient(y, tx, w):\n",
    "    \"\"\"Compute a stochastic gradient at w from a data sample batch of size B, where B < N, and their corresponding labels.\n",
    "\n",
    "    Args:\n",
    "        y: numpy array of shape=(B, )\n",
    "        tx: numpy array of shape=(B,2)\n",
    "        w: numpy array of shape=(2, ). The vector of model parameters.\n",
    "\n",
    "    Returns:\n",
    "        A numpy array of shape (2, ) (same shape as w), containing the stochastic gradient of the loss at w.\n",
    "    \"\"\"\n",
    "    # same as before, gradient computation\n",
    "    e = y - tx@w\n",
    "    N = y.shape[0]\n",
    "    grad_L = -1/N * tx.T @ e\n",
    "    return grad_L\n",
    "\n",
    "\n",
    "def stochastic_gradient_descent(y, tx, initial_w, batch_size, max_iters, gamma):\n",
    "    \"\"\"The Stochastic Gradient Descent algorithm (SGD).\n",
    "\n",
    "    Args:\n",
    "        y: numpy array of shape=(N, )\n",
    "        tx: numpy array of shape=(N,2)\n",
    "        initial_w: numpy array of shape=(2, ). The initial guess (or the initialization) for the model parameters\n",
    "        batch_size: a scalar denoting the number of data points in a mini-batch used for computing the stochastic gradient\n",
    "        max_iters: a scalar denoting the total number of iterations of SGD\n",
    "        gamma: a scalar denoting the stepsize\n",
    "\n",
    "    Returns:\n",
    "        losses: a list of length max_iters containing the loss value (scalar) for each iteration of SGD\n",
    "        ws: a list of length max_iters containing the model parameters as numpy arrays of shape (2, ), for each iteration of SGD\n",
    "    \"\"\"\n",
    "\n",
    "    # Define parameters to store w and loss\n",
    "    ws = [initial_w]\n",
    "    losses = [compute_loss(y,tx,initial_w)]\n",
    "    w = initial_w\n",
    "\n",
    "    for n_iter in range(max_iters):\n",
    "        # ***************************************************\n",
    "        # INSERT YOUR CODE HERE\n",
    "        # TODO: implement stochastic gradient descent.\n",
    "        # ***************************************************\n",
    "        for y_batch, tx_batch in batch_iter(y,tx,batch_size, num_batches=1, shuffle=True):\n",
    "            # compute gradient of loss on this mini-batch\n",
    "            grad_L = compute_gradient(y_batch, tx_batch,w)\n",
    "\n",
    "            # update weights and compute loss\n",
    "            w = w - gamma*grad_L\n",
    "            loss = compute_loss(y,tx,w) # full loss, not just batch loss\n",
    "\n",
    "            # save loss and weights for this iteration\n",
    "            losses.append(loss)\n",
    "            ws.append(w)\n",
    "\n",
    "        print(\n",
    "            \"SGD iter. {bi}/{ti}: loss={l}, w0={w0}, w1={w1}\".format(\n",
    "                bi=n_iter, ti=max_iters - 1, l=loss, w0=w[0], w1=w[1]\n",
    "            )\n",
    "        )\n",
    "    return losses, ws"
   ]
  },
  {
   "cell_type": "code",
   "execution_count": 86,
   "metadata": {
    "execution": {
     "iopub.execute_input": "2025-09-18T14:08:35.890252Z",
     "iopub.status.busy": "2025-09-18T14:08:35.889897Z",
     "iopub.status.idle": "2025-09-18T14:08:35.914725Z",
     "shell.execute_reply": "2025-09-18T14:08:35.914111Z",
     "shell.execute_reply.started": "2025-09-18T14:08:35.890224Z"
    }
   },
   "outputs": [
    {
     "name": "stdout",
     "output_type": "stream",
     "text": [
      "SGD iter. 0/49: loss=1.715, w0=0.1, w1=0.1\n",
      "SGD iter. 1/49: loss=0.012000000000000021, w0=0.36, w1=0.8800000000000001\n",
      "SGD iter. 2/49: loss=0.008063999999999998, w0=0.33599999999999997, w1=0.8560000000000001\n",
      "SGD iter. 3/49: loss=0.008924159999999974, w0=0.31679999999999997, w1=0.8368000000000001\n",
      "SGD iter. 4/49: loss=0.008681932799999997, w0=0.31775999999999993, w1=0.83872\n",
      "SGD iter. 5/49: loss=0.010352033279999999, w0=0.33436799999999994, w1=0.888544\n",
      "SGD iter. 6/49: loss=0.006956566364159999, w0=0.31207679999999993, w1=0.8662528\n",
      "SGD iter. 7/49: loss=0.009540433870847978, w0=0.32099327999999994, w1=0.89300224\n",
      "SGD iter. 8/49: loss=0.009540433870847978, w0=0.32099327999999994, w1=0.89300224\n",
      "SGD iter. 9/49: loss=0.006411171561209846, w0=0.29959372799999995, w1=0.871602688\n",
      "SGD iter. 10/49: loss=0.007095029861072235, w0=0.28247408639999994, w1=0.8544830464\n",
      "SGD iter. 11/49: loss=0.009681968115408793, w0=0.26877837311999997, w1=0.84078733312\n",
      "SGD iter. 12/49: loss=0.01305702375212391, w0=0.25782180249599995, w1=0.829830762496\n",
      "SGD iter. 13/49: loss=0.007420386193576477, w0=0.28309039349759996, w1=0.9056365355007999\n",
      "SGD iter. 14/49: loss=0.007420386193576477, w0=0.2830903934976, w1=0.9056365355008\n",
      "SGD iter. 15/49: loss=0.004986499522083385, w0=0.26421770059776, w1=0.8867638426009601\n",
      "SGD iter. 16/49: loss=0.006838627916000076, w0=0.2717667777576959, w1=0.9094110740807679\n",
      "SGD iter. 17/49: loss=0.006838627916000076, w0=0.2717667777576959, w1=0.9094110740807679\n",
      "SGD iter. 18/49: loss=0.006838627916000076, w0=0.2717667777576959, w1=0.9094110740807679\n",
      "SGD iter. 19/49: loss=0.004964843867016056, w0=0.26270788516577276, w1=0.8912932888969216\n",
      "SGD iter. 20/49: loss=0.004879361018066056, w0=0.2581784388698111, w1=0.8822343963049983\n",
      "SGD iter. 21/49: loss=0.0066350077698011664, w0=0.2676902760913305, w1=0.9107699079695564\n",
      "SGD iter. 22/49: loss=0.0048170156408756555, w0=0.25876726688828616, w1=0.8929238895634677\n",
      "SGD iter. 23/49: loss=0.0047340780437531375, w0=0.254305762286764, w1=0.8840008803604233\n",
      "SGD iter. 24/49: loss=0.00643745041345534, w0=0.26367492194996056, w1=0.9121083593500131\n",
      "SGD iter. 25/49: loss=0.00643745041345534, w0=0.26367492194996056, w1=0.9121083593500131\n",
      "SGD iter. 26/49: loss=0.004325966677841997, w0=0.2460965938199632, w1=0.8945300312200157\n",
      "SGD iter. 27/49: loss=0.005932754301040456, w0=0.25312792507196213, w1=0.9156240249760126\n",
      "SGD iter. 28/49: loss=0.0039868108902991846, w0=0.23625273006716466, w1=0.8987488299712151\n",
      "SGD iter. 29/49: loss=0.005467626363838875, w0=0.24300280806908367, w1=0.9189990639769721\n",
      "SGD iter. 30/49: loss=0.005467626363838875, w0=0.24300280806908367, w1=0.9189990639769721\n",
      "SGD iter. 31/49: loss=0.005467626363838875, w0=0.24300280806908367, w1=0.9189990639769721\n",
      "SGD iter. 32/49: loss=0.003674244916499732, w0=0.2268026208644781, w1=0.9027988767723665\n",
      "SGD iter. 33/49: loss=0.0040661643742596915, w0=0.21384247110079363, w1=0.889838727008682\n",
      "SGD iter. 34/49: loss=0.004708632342516224, w0=0.22550660588810964, w1=0.9248311313706301\n",
      "SGD iter. 35/49: loss=0.0031642009341709, w0=0.21047283216223567, w1=0.9097973576447561\n",
      "SGD iter. 36/49: loss=0.004339475566862943, w0=0.21648634165258526, w1=0.9278378861158049\n",
      "SGD iter. 37/49: loss=0.004339475566862964, w0=0.21648634165258532, w1=0.927837886115805\n",
      "SGD iter. 38/49: loss=0.0029161275809318995, w0=0.20205391887574628, w1=0.913405463338966\n",
      "SGD iter. 39/49: loss=0.0039992606824208864, w0=0.20782688798648183, w1=0.9307243706711726\n",
      "SGD iter. 40/49: loss=0.002903463255437567, w0=0.20089932505359911, w1=0.9168692448054072\n",
      "SGD iter. 41/49: loss=0.003919675394840701, w0=0.20574861910661701, w1=0.9314171269644609\n",
      "SGD iter. 42/49: loss=0.0026340218653329622, w0=0.19203204449950922, w1=0.9177005523573531\n",
      "SGD iter. 43/49: loss=0.0029149841976351455, w0=0.18105878481382298, w1=0.906727292671667\n",
      "SGD iter. 44/49: loss=0.003977824563258239, w0=0.172280177065274, w1=0.897948684923118\n",
      "SGD iter. 45/49: loss=0.00319189264485696, w0=0.18566755388181116, w1=0.9381108153727294\n",
      "SGD iter. 46/49: loss=0.0021449518573438834, w0=0.1732897169563571, w1=0.9257329784472754\n",
      "SGD iter. 47/49: loss=0.0021684441872100277, w0=0.1708141495712663, w1=0.9207818436770938\n",
      "SGD iter. 48/49: loss=0.002917185596269992, w0=0.17749818151101152, w1=0.9408339394963294\n",
      "SGD iter. 49/49: loss=0.001960348720693443, w0=0.16566496941027742, w1=0.9290007273955954\n",
      "SGD: execution time=0.010 seconds\n"
     ]
    }
   ],
   "source": [
    "# from stochastic_gradient_descent import *\n",
    "\n",
    "# Define the parameters of the algorithm.\n",
    "max_iters = 50\n",
    "gamma = 0.1\n",
    "batch_size = 1\n",
    "\n",
    "# Initialization\n",
    "w_initial = np.array([0, 0])\n",
    "\n",
    "# Start SGD.\n",
    "start_time = datetime.datetime.now()\n",
    "sgd_losses, sgd_ws = stochastic_gradient_descent(\n",
    "    y, tx, w_initial, batch_size, max_iters, gamma\n",
    ")\n",
    "end_time = datetime.datetime.now()\n",
    "\n",
    "# Print result\n",
    "exection_time = (end_time - start_time).total_seconds()\n",
    "print(\"SGD: execution time={t:.3f} seconds\".format(t=exection_time))"
   ]
  },
  {
   "cell_type": "code",
   "execution_count": 87,
   "metadata": {
    "execution": {
     "iopub.execute_input": "2025-09-18T14:08:36.976902Z",
     "iopub.status.busy": "2025-09-18T14:08:36.976314Z",
     "iopub.status.idle": "2025-09-18T14:08:37.369745Z",
     "shell.execute_reply": "2025-09-18T14:08:37.368949Z",
     "shell.execute_reply.started": "2025-09-18T14:08:36.976860Z"
    }
   },
   "outputs": [
    {
     "data": {
      "application/vnd.jupyter.widget-view+json": {
       "model_id": "ac1f7b8f891e4c6bb43c5edb1f65d292",
       "version_major": 2,
       "version_minor": 0
      },
      "text/plain": [
       "interactive(children=(IntSlider(value=1, description='n_iter', max=51, min=1), Output()), _dom_classes=('widge…"
      ]
     },
     "metadata": {},
     "output_type": "display_data"
    },
    {
     "data": {
      "text/plain": [
       "<function __main__.plot_figure(n_iter)>"
      ]
     },
     "execution_count": 87,
     "metadata": {},
     "output_type": "execute_result"
    },
    {
     "data": {
      "image/png": "[encoded data removed]",
      "text/plain": [
       "<Figure size 1000x600 with 3 Axes>"
      ]
     },
     "metadata": {},
     "output_type": "display_data"
    }
   ],
   "source": [
    "# Time Visualization\n",
    "from ipywidgets import IntSlider, interact\n",
    "\n",
    "\n",
    "def plot_figure(n_iter):\n",
    "    fig = gradient_descent_visualization(\n",
    "        sgd_losses,\n",
    "        sgd_ws,\n",
    "        grid_losses,\n",
    "        grid_w0,\n",
    "        grid_w1,\n",
    "        mean_x,\n",
    "        std_x,\n",
    "        height,\n",
    "        weight,\n",
    "        n_iter,\n",
    "    )\n",
    "    fig.set_size_inches(10.0, 6.0)\n",
    "\n",
    "\n",
    "interact(plot_figure, n_iter=IntSlider(min=1, max=len(sgd_ws)))"
   ]
  },
  {
   "cell_type": "markdown",
   "metadata": {},
   "source": [
    "# 5. Effect of Outliers and MAE Cost Function"
   ]
  },
  {
   "cell_type": "code",
   "execution_count": null,
   "metadata": {
    "execution": {
     "iopub.status.busy": "2025-09-18T13:51:15.705465Z",
     "iopub.status.idle": "2025-09-18T13:51:15.705766Z",
     "shell.execute_reply": "2025-09-18T13:51:15.705646Z",
     "shell.execute_reply.started": "2025-09-18T13:51:15.705634Z"
    }
   },
   "outputs": [],
   "source": [
    "import datetime\n",
    "from helpers import *\n",
    "\n",
    "# ***************************************************\n",
    "# INSERT YOUR CODE HERE\n",
    "# TODO: reload the data by subsampling first, then by subsampling and adding outliers\n",
    "# ***************************************************\n",
    "raise NotImplementedError\n",
    "\n",
    "x, mean_x, std_x = standardize(height)\n",
    "y, tx = build_model_data(x, weight)"
   ]
  },
  {
   "cell_type": "code",
   "execution_count": null,
   "metadata": {
    "execution": {
     "iopub.status.busy": "2025-09-18T13:51:15.706298Z",
     "iopub.status.idle": "2025-09-18T13:51:15.706544Z",
     "shell.execute_reply": "2025-09-18T13:51:15.706432Z",
     "shell.execute_reply.started": "2025-09-18T13:51:15.706421Z"
    }
   },
   "outputs": [],
   "source": [
    "y.shape, tx.shape"
   ]
  },
  {
   "cell_type": "code",
   "execution_count": null,
   "metadata": {
    "execution": {
     "iopub.status.busy": "2025-09-18T13:51:15.707172Z",
     "iopub.status.idle": "2025-09-18T13:51:15.707435Z",
     "shell.execute_reply": "2025-09-18T13:51:15.707321Z",
     "shell.execute_reply.started": "2025-09-18T13:51:15.707309Z"
    }
   },
   "outputs": [],
   "source": [
    "from plots import gradient_descent_visualization\n",
    "\n",
    "# Define the parameters of the algorithm.\n",
    "max_iters = 50\n",
    "gamma = 0.7\n",
    "\n",
    "# Initialization\n",
    "w_initial = np.array([0, 0])\n",
    "\n",
    "# Start gradient descent.\n",
    "start_time = datetime.datetime.now()\n",
    "\n",
    "# ***************************************************\n",
    "# INSERT YOUR CODE HERE\n",
    "# TODO: fit the model to the subsampled data / subsampled data with outliers and visualize the cloud of points\n",
    "#       and the model fit\n",
    "# ***************************************************\n",
    "raise NotImplementedError\n",
    "\n",
    "\n",
    "end_time = datetime.datetime.now()\n",
    "\n",
    "# Print result\n",
    "exection_time = (end_time - start_time).total_seconds()\n",
    "print(\"GD: execution time={t:.3f} seconds\".format(t=exection_time))"
   ]
  },
  {
   "cell_type": "code",
   "execution_count": null,
   "metadata": {
    "execution": {
     "iopub.status.busy": "2025-09-18T13:51:15.707850Z",
     "iopub.status.idle": "2025-09-18T13:51:15.708088Z",
     "shell.execute_reply": "2025-09-18T13:51:15.707979Z",
     "shell.execute_reply.started": "2025-09-18T13:51:15.707968Z"
    }
   },
   "outputs": [],
   "source": [
    "# Time Visualization\n",
    "from ipywidgets import IntSlider, interact\n",
    "\n",
    "\n",
    "def plot_figure(n_iter):\n",
    "    fig = gradient_descent_visualization(\n",
    "        gd_losses,\n",
    "        gd_ws,\n",
    "        grid_losses,\n",
    "        grid_w0,\n",
    "        grid_w1,\n",
    "        mean_x,\n",
    "        std_x,\n",
    "        height,\n",
    "        weight,\n",
    "        n_iter,\n",
    "    )\n",
    "    fig.set_size_inches(10.0, 6.0)\n",
    "\n",
    "\n",
    "interact(plot_figure, n_iter=IntSlider(min=1, max=len(gd_ws)))"
   ]
  },
  {
   "cell_type": "markdown",
   "metadata": {
    "collapsed": true,
    "jupyter": {
     "outputs_hidden": true
    }
   },
   "source": [
    "# 6. Subgradient descent"
   ]
  },
  {
   "cell_type": "code",
   "execution_count": null,
   "metadata": {
    "execution": {
     "iopub.status.busy": "2025-09-18T13:51:15.708612Z",
     "iopub.status.idle": "2025-09-18T13:51:15.708858Z",
     "shell.execute_reply": "2025-09-18T13:51:15.708747Z",
     "shell.execute_reply.started": "2025-09-18T13:51:15.708736Z"
    }
   },
   "outputs": [],
   "source": [
    "def compute_subgradient_mae(y, tx, w):\n",
    "    \"\"\"Compute a subgradient of the MAE at w.\n",
    "\n",
    "    Args:\n",
    "        y: numpy array of shape=(N, )\n",
    "        tx: numpy array of shape=(N,2)\n",
    "        w: numpy array of shape=(2, ). The vector of model parameters.\n",
    "\n",
    "    Returns:\n",
    "        A numpy array of shape (2, ) (same shape as w), containing the subgradient of the MAE at w.\n",
    "    \"\"\"\n",
    "    # ***************************************************\n",
    "    # INSERT YOUR CODE HERE\n",
    "    # TODO: compute subgradient gradient vector for MAE\n",
    "    # ***************************************************\n",
    "    raise NotImplementedError"
   ]
  },
  {
   "cell_type": "code",
   "execution_count": null,
   "metadata": {
    "execution": {
     "iopub.status.busy": "2025-09-18T13:51:15.709338Z",
     "iopub.status.idle": "2025-09-18T13:51:15.709588Z",
     "shell.execute_reply": "2025-09-18T13:51:15.709473Z",
     "shell.execute_reply.started": "2025-09-18T13:51:15.709462Z"
    }
   },
   "outputs": [],
   "source": [
    "def subgradient_descent(y, tx, initial_w, max_iters, gamma):\n",
    "    \"\"\"The SubGradient Descent (SubGD) algorithm.\n",
    "\n",
    "    Args:\n",
    "        y: numpy array of shape=(N, )\n",
    "        tx: numpy array of shape=(N,2)\n",
    "        initial_w: numpy array of shape=(2, ). The initial guess (or the initialization) for the model parameters\n",
    "        max_iters: a scalar denoting the total number of iterations of GD\n",
    "        gamma: a scalar denoting the stepsize\n",
    "\n",
    "    Returns:\n",
    "        losses: a list of length max_iters containing the loss value (scalar) for each iteration of SubGD\n",
    "        ws: a list of length max_iters containing the model parameters as numpy arrays of shape (2, ), for each iteration of SubGD\n",
    "    \"\"\"\n",
    "    # Define parameters to store w and loss\n",
    "    ws = [initial_w]\n",
    "    losses = []\n",
    "    w = initial_w\n",
    "    for n_iter in range(max_iters):\n",
    "        # ***************************************************\n",
    "        # INSERT YOUR CODE HERE\n",
    "        # TODO: compute subgradient and loss\n",
    "        # ***************************************************\n",
    "        raise NotImplementedError\n",
    "        # ***************************************************\n",
    "        # INSERT YOUR CODE HERE\n",
    "        # TODO: update w by subgradient\n",
    "        # ***************************************************\n",
    "        raise NotImplementedError\n",
    "\n",
    "        ws.append(w)\n",
    "        losses.append(loss)\n",
    "        print(\n",
    "            \"SubGD iter. {bi}/{ti}: loss={l}, w0={w0}, w1={w1}\".format(\n",
    "                bi=n_iter, ti=max_iters - 1, l=loss, w0=w[0], w1=w[1]\n",
    "            )\n",
    "        )\n",
    "\n",
    "    return losses, ws"
   ]
  },
  {
   "cell_type": "code",
   "execution_count": null,
   "metadata": {
    "execution": {
     "iopub.status.busy": "2025-09-18T13:51:15.710232Z",
     "iopub.status.idle": "2025-09-18T13:51:15.710481Z",
     "shell.execute_reply": "2025-09-18T13:51:15.710369Z",
     "shell.execute_reply.started": "2025-09-18T13:51:15.710357Z"
    }
   },
   "outputs": [],
   "source": [
    "# Define the parameters of the algorithm.\n",
    "max_iters = 500\n",
    "gamma = 0.7\n",
    "batch_size = 1\n",
    "\n",
    "# Initialization\n",
    "w_initial = np.array([0, 0])\n",
    "\n",
    "# Start SubSGD.\n",
    "start_time = datetime.datetime.now()\n",
    "subgd_losses, subgd_ws = subgradient_descent(y, tx, w_initial, max_iters, gamma)\n",
    "end_time = datetime.datetime.now()\n",
    "\n",
    "# Print result\n",
    "exection_time = (end_time - start_time).total_seconds()\n",
    "print(\"SubGD: execution time={t:.3f} seconds\".format(t=exection_time))"
   ]
  },
  {
   "cell_type": "code",
   "execution_count": null,
   "metadata": {
    "execution": {
     "iopub.status.busy": "2025-09-18T13:51:15.710891Z",
     "iopub.status.idle": "2025-09-18T13:51:15.711139Z",
     "shell.execute_reply": "2025-09-18T13:51:15.711020Z",
     "shell.execute_reply.started": "2025-09-18T13:51:15.711008Z"
    }
   },
   "outputs": [],
   "source": [
    "from ipywidgets import IntSlider, interact\n",
    "\n",
    "\n",
    "def plot_figure(n_iter):\n",
    "    fig = gradient_descent_visualization(\n",
    "        subgd_losses,\n",
    "        subgd_ws,\n",
    "        grid_losses,\n",
    "        grid_w0,\n",
    "        grid_w1,\n",
    "        mean_x,\n",
    "        std_x,\n",
    "        height,\n",
    "        weight,\n",
    "        n_iter,\n",
    "    )\n",
    "    fig.set_size_inches(10.0, 6.0)\n",
    "\n",
    "\n",
    "interact(plot_figure, n_iter=IntSlider(min=1, max=len(subgd_ws)))"
   ]
  },
  {
   "cell_type": "markdown",
   "metadata": {},
   "source": [
    "# Stochastic Subgradient Descent\n",
    "\n",
    "**NB** for the computation of the subgradient you can reuse the `compute_subgradient` method that you implemented above, just making sure that you pass in a minibatch as opposed to the full data."
   ]
  },
  {
   "cell_type": "code",
   "execution_count": null,
   "metadata": {
    "execution": {
     "iopub.status.busy": "2025-09-18T13:51:15.711820Z",
     "iopub.status.idle": "2025-09-18T13:51:15.712242Z",
     "shell.execute_reply": "2025-09-18T13:51:15.712055Z",
     "shell.execute_reply.started": "2025-09-18T13:51:15.712038Z"
    }
   },
   "outputs": [],
   "source": [
    "def stochastic_subgradient_descent(y, tx, initial_w, batch_size, max_iters, gamma):\n",
    "    \"\"\"Compute a stochastic subgradient at w from a data sample batch of size B, where B < N, and their corresponding labels.\n",
    "\n",
    "    Args:\n",
    "        y: numpy array of shape=(B, )\n",
    "        tx: numpy array of shape=(B,2)\n",
    "        initial_w: numpy array of shape=(2, ). The initial guess (or the initialization) for the model parameters\n",
    "        batch_size: a scalar denoting the number of data points in a mini-batch used for computing the stochastic subgradient\n",
    "        max_iters: a scalar denoting the total number of iterations of SubSGD\n",
    "        gamma: a scalar denoting the stepsize\n",
    "\n",
    "    Returns:\n",
    "        losses: a list of length max_iters containing the loss value (scalar) for each iteration of SubSGD\n",
    "        ws: a list of length max_iters containing the model parameters as numpy arrays of shape (2, ), for each iteration of SubSGD\n",
    "    \"\"\"\n",
    "\n",
    "    # Define parameters to store w and loss\n",
    "    ws = [initial_w]\n",
    "    losses = []\n",
    "    w = initial_w\n",
    "\n",
    "    for n_iter in range(max_iters):\n",
    "        # ***************************************************\n",
    "        # INSERT YOUR CODE HERE\n",
    "        # TODO: implement stochastic subgradient descent.\n",
    "        # ***************************************************\n",
    "        raise NotImplementedError\n",
    "\n",
    "        print(\n",
    "            \"SubSGD iter. {bi}/{ti}: loss={l}, w0={w0}, w1={w1}\".format(\n",
    "                bi=n_iter, ti=max_iters - 1, l=loss, w0=w[0], w1=w[1]\n",
    "            )\n",
    "        )\n",
    "    return losses, ws"
   ]
  },
  {
   "cell_type": "code",
   "execution_count": null,
   "metadata": {
    "execution": {
     "iopub.status.busy": "2025-09-18T13:51:15.712784Z",
     "iopub.status.idle": "2025-09-18T13:51:15.713029Z",
     "shell.execute_reply": "2025-09-18T13:51:15.712918Z",
     "shell.execute_reply.started": "2025-09-18T13:51:15.712908Z"
    }
   },
   "outputs": [],
   "source": [
    "# Define the parameters of the algorithm.\n",
    "max_iters = 500\n",
    "gamma = 0.7\n",
    "batch_size = 1\n",
    "\n",
    "# Initialization\n",
    "w_initial = np.array([0, 0])\n",
    "\n",
    "# Start SubSGD.\n",
    "start_time = datetime.datetime.now()\n",
    "subsgd_losses, subsgd_ws = stochastic_subgradient_descent(\n",
    "    y, tx, w_initial, batch_size, max_iters, gamma\n",
    ")\n",
    "end_time = datetime.datetime.now()\n",
    "\n",
    "# Print result\n",
    "exection_time = (end_time - start_time).total_seconds()\n",
    "print(\"SubSGD: execution time={t:.3f} seconds\".format(t=exection_time))"
   ]
  },
  {
   "cell_type": "code",
   "execution_count": null,
   "metadata": {
    "execution": {
     "iopub.status.busy": "2025-09-18T13:51:15.713468Z",
     "iopub.status.idle": "2025-09-18T13:51:15.713764Z",
     "shell.execute_reply": "2025-09-18T13:51:15.713649Z",
     "shell.execute_reply.started": "2025-09-18T13:51:15.713637Z"
    }
   },
   "outputs": [],
   "source": [
    "from ipywidgets import IntSlider, interact\n",
    "\n",
    "\n",
    "def plot_figure(n_iter):\n",
    "    fig = gradient_descent_visualization(\n",
    "        subsgd_losses,\n",
    "        subsgd_ws,\n",
    "        grid_losses,\n",
    "        grid_w0,\n",
    "        grid_w1,\n",
    "        mean_x,\n",
    "        std_x,\n",
    "        height,\n",
    "        weight,\n",
    "        n_iter,\n",
    "    )\n",
    "    fig.set_size_inches(10.0, 6.0)\n",
    "\n",
    "\n",
    "interact(plot_figure, n_iter=IntSlider(min=1, max=len(subsgd_ws)))"
   ]
  }
 ],
 "metadata": {
  "kernelspec": {
   "display_name": "Python3",
   "language": "python",
   "name": "python3"
  },
  "language_info": {
   "codemirror_mode": {
    "name": "ipython",
    "version": 3
   },
   "file_extension": ".py",
   "mimetype": "text/x-python",
   "name": "python",
   "nbconvert_exporter": "python",
   "pygments_lexer": "ipython3",
   "version": "3.12.11"
  }
 },
 "nbformat": 4,
 "nbformat_minor": 4
}
